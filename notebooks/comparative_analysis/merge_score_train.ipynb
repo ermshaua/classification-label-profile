{
 "cells": [
  {
   "cell_type": "markdown",
   "metadata": {},
   "source": [
    "# Ablation Study: Merge Score\n",
    "In this notebook, we compare ClaP with with different merge scores."
   ]
  },
  {
   "cell_type": "code",
   "execution_count": 49,
   "metadata": {
    "ExecuteTime": {
     "end_time": "2024-10-23T14:26:40.208285Z",
     "start_time": "2024-10-23T14:26:40.174241Z"
    }
   },
   "outputs": [],
   "source": [
    "import matplotlib\n",
    "\n",
    "matplotlib.rcParams['pdf.fonttype'] = 42\n",
    "matplotlib.rcParams['ps.fonttype'] = 42"
   ]
  },
  {
   "cell_type": "code",
   "execution_count": 50,
   "metadata": {
    "ExecuteTime": {
     "end_time": "2024-10-23T14:26:40.215565Z",
     "start_time": "2024-10-23T14:26:40.177018Z"
    }
   },
   "outputs": [],
   "source": [
    "import numpy as np\n",
    "import pandas as pd\n",
    "\n",
    "pd.set_option('display.max_rows', None)\n",
    "\n",
    "import matplotlib.pyplot as plt\n",
    "import seaborn as sns\n",
    "\n",
    "from aeon.visualisation import plot_critical_difference\n",
    "from external.MCM import MCM\n",
    "from wand.image import Image\n",
    "\n",
    "sns.set_theme()\n",
    "sns.set_color_codes()\n",
    "\n",
    "import os\n",
    "import sys\n",
    "\n",
    "sys.path.append(\"../../\")"
   ]
  },
  {
   "cell_type": "markdown",
   "metadata": {},
   "source": [
    "Let's choose a score for evaluation (AMI)."
   ]
  },
  {
   "cell_type": "code",
   "execution_count": 51,
   "metadata": {
    "ExecuteTime": {
     "end_time": "2024-10-23T14:26:40.215751Z",
     "start_time": "2024-10-23T14:26:40.181620Z"
    }
   },
   "outputs": [],
   "source": [
    "eval_score = \"ami_score\""
   ]
  },
  {
   "cell_type": "markdown",
   "metadata": {},
   "source": [
    "Let's load the scores from the different methods."
   ]
  },
  {
   "cell_type": "code",
   "execution_count": 52,
   "metadata": {
    "ExecuteTime": {
     "end_time": "2024-10-23T14:26:40.237194Z",
     "start_time": "2024-10-23T14:26:40.186538Z"
    }
   },
   "outputs": [
    {
     "data": {
      "text/plain": "                       dataset  cgain  f1_score  log_loss    ami  \\\n0                DodgerLoopDay  1.000     1.000     1.000  1.000   \n1                       EEGRat  0.825     0.909     0.909  0.909   \n2                      EEGRat2  0.737     0.737     0.737  0.737   \n3                     FaceFour  0.840     0.809     0.809  0.809   \n4            GrandMalSeizures2  0.538     0.954     0.954  0.668   \n5                 GreatBarbet1  0.816     0.993     0.993  0.993   \n6                      Herring  1.000     1.000     1.000  1.000   \n7                  InlineSkate  0.486     0.486     0.486  0.486   \n8                   InsectEPG1  0.409     0.668     0.668  0.977   \n9          MelbournePedestrian  0.984     0.557     0.557  0.420   \n10                    NogunGun  1.000     1.000     1.000  1.000   \n11  NonInvasiveFetalECGThorax1  0.836     0.498     0.498  0.498   \n12                   ShapesAll  0.987     0.393     0.393  0.393   \n13                     TiltECG  0.678     0.982     0.982  0.982   \n14            ToeSegmentation1  0.731     0.995     0.948  0.948   \n15            ToeSegmentation2  0.997     0.997     0.997  0.997   \n16                       Trace  0.961     0.647     0.647  0.647   \n17        UWaveGestureLibraryY  0.789     0.406     0.406  0.789   \n18        UWaveGestureLibraryZ  0.810     0.417     0.417  0.417   \n19                WordSynonyms  0.727     0.727     0.727  0.727   \n20                        Yoga  0.752     0.752     0.752  0.752   \n\n    hamming_loss  roc_auc  \n0          1.000    1.000  \n1          0.909    0.909  \n2          0.737    0.737  \n3          0.809    0.840  \n4          0.954    0.538  \n5          0.993    0.816  \n6          1.000    1.000  \n7          0.486    0.486  \n8          0.668    0.514  \n9          0.557    0.984  \n10         1.000    0.426  \n11         0.498    0.995  \n12         0.393    0.987  \n13         0.982    0.678  \n14         0.995    0.631  \n15         0.997    0.997  \n16         0.647    0.647  \n17         0.406    0.963  \n18         0.417    0.810  \n19         0.727    0.727  \n20         0.752    0.752  ",
      "text/html": "<div>\n<style scoped>\n    .dataframe tbody tr th:only-of-type {\n        vertical-align: middle;\n    }\n\n    .dataframe tbody tr th {\n        vertical-align: top;\n    }\n\n    .dataframe thead th {\n        text-align: right;\n    }\n</style>\n<table border=\"1\" class=\"dataframe\">\n  <thead>\n    <tr style=\"text-align: right;\">\n      <th></th>\n      <th>dataset</th>\n      <th>cgain</th>\n      <th>f1_score</th>\n      <th>log_loss</th>\n      <th>ami</th>\n      <th>hamming_loss</th>\n      <th>roc_auc</th>\n    </tr>\n  </thead>\n  <tbody>\n    <tr>\n      <th>0</th>\n      <td>DodgerLoopDay</td>\n      <td>1.000</td>\n      <td>1.000</td>\n      <td>1.000</td>\n      <td>1.000</td>\n      <td>1.000</td>\n      <td>1.000</td>\n    </tr>\n    <tr>\n      <th>1</th>\n      <td>EEGRat</td>\n      <td>0.825</td>\n      <td>0.909</td>\n      <td>0.909</td>\n      <td>0.909</td>\n      <td>0.909</td>\n      <td>0.909</td>\n    </tr>\n    <tr>\n      <th>2</th>\n      <td>EEGRat2</td>\n      <td>0.737</td>\n      <td>0.737</td>\n      <td>0.737</td>\n      <td>0.737</td>\n      <td>0.737</td>\n      <td>0.737</td>\n    </tr>\n    <tr>\n      <th>3</th>\n      <td>FaceFour</td>\n      <td>0.840</td>\n      <td>0.809</td>\n      <td>0.809</td>\n      <td>0.809</td>\n      <td>0.809</td>\n      <td>0.840</td>\n    </tr>\n    <tr>\n      <th>4</th>\n      <td>GrandMalSeizures2</td>\n      <td>0.538</td>\n      <td>0.954</td>\n      <td>0.954</td>\n      <td>0.668</td>\n      <td>0.954</td>\n      <td>0.538</td>\n    </tr>\n    <tr>\n      <th>5</th>\n      <td>GreatBarbet1</td>\n      <td>0.816</td>\n      <td>0.993</td>\n      <td>0.993</td>\n      <td>0.993</td>\n      <td>0.993</td>\n      <td>0.816</td>\n    </tr>\n    <tr>\n      <th>6</th>\n      <td>Herring</td>\n      <td>1.000</td>\n      <td>1.000</td>\n      <td>1.000</td>\n      <td>1.000</td>\n      <td>1.000</td>\n      <td>1.000</td>\n    </tr>\n    <tr>\n      <th>7</th>\n      <td>InlineSkate</td>\n      <td>0.486</td>\n      <td>0.486</td>\n      <td>0.486</td>\n      <td>0.486</td>\n      <td>0.486</td>\n      <td>0.486</td>\n    </tr>\n    <tr>\n      <th>8</th>\n      <td>InsectEPG1</td>\n      <td>0.409</td>\n      <td>0.668</td>\n      <td>0.668</td>\n      <td>0.977</td>\n      <td>0.668</td>\n      <td>0.514</td>\n    </tr>\n    <tr>\n      <th>9</th>\n      <td>MelbournePedestrian</td>\n      <td>0.984</td>\n      <td>0.557</td>\n      <td>0.557</td>\n      <td>0.420</td>\n      <td>0.557</td>\n      <td>0.984</td>\n    </tr>\n    <tr>\n      <th>10</th>\n      <td>NogunGun</td>\n      <td>1.000</td>\n      <td>1.000</td>\n      <td>1.000</td>\n      <td>1.000</td>\n      <td>1.000</td>\n      <td>0.426</td>\n    </tr>\n    <tr>\n      <th>11</th>\n      <td>NonInvasiveFetalECGThorax1</td>\n      <td>0.836</td>\n      <td>0.498</td>\n      <td>0.498</td>\n      <td>0.498</td>\n      <td>0.498</td>\n      <td>0.995</td>\n    </tr>\n    <tr>\n      <th>12</th>\n      <td>ShapesAll</td>\n      <td>0.987</td>\n      <td>0.393</td>\n      <td>0.393</td>\n      <td>0.393</td>\n      <td>0.393</td>\n      <td>0.987</td>\n    </tr>\n    <tr>\n      <th>13</th>\n      <td>TiltECG</td>\n      <td>0.678</td>\n      <td>0.982</td>\n      <td>0.982</td>\n      <td>0.982</td>\n      <td>0.982</td>\n      <td>0.678</td>\n    </tr>\n    <tr>\n      <th>14</th>\n      <td>ToeSegmentation1</td>\n      <td>0.731</td>\n      <td>0.995</td>\n      <td>0.948</td>\n      <td>0.948</td>\n      <td>0.995</td>\n      <td>0.631</td>\n    </tr>\n    <tr>\n      <th>15</th>\n      <td>ToeSegmentation2</td>\n      <td>0.997</td>\n      <td>0.997</td>\n      <td>0.997</td>\n      <td>0.997</td>\n      <td>0.997</td>\n      <td>0.997</td>\n    </tr>\n    <tr>\n      <th>16</th>\n      <td>Trace</td>\n      <td>0.961</td>\n      <td>0.647</td>\n      <td>0.647</td>\n      <td>0.647</td>\n      <td>0.647</td>\n      <td>0.647</td>\n    </tr>\n    <tr>\n      <th>17</th>\n      <td>UWaveGestureLibraryY</td>\n      <td>0.789</td>\n      <td>0.406</td>\n      <td>0.406</td>\n      <td>0.789</td>\n      <td>0.406</td>\n      <td>0.963</td>\n    </tr>\n    <tr>\n      <th>18</th>\n      <td>UWaveGestureLibraryZ</td>\n      <td>0.810</td>\n      <td>0.417</td>\n      <td>0.417</td>\n      <td>0.417</td>\n      <td>0.417</td>\n      <td>0.810</td>\n    </tr>\n    <tr>\n      <th>19</th>\n      <td>WordSynonyms</td>\n      <td>0.727</td>\n      <td>0.727</td>\n      <td>0.727</td>\n      <td>0.727</td>\n      <td>0.727</td>\n      <td>0.727</td>\n    </tr>\n    <tr>\n      <th>20</th>\n      <td>Yoga</td>\n      <td>0.752</td>\n      <td>0.752</td>\n      <td>0.752</td>\n      <td>0.752</td>\n      <td>0.752</td>\n      <td>0.752</td>\n    </tr>\n  </tbody>\n</table>\n</div>"
     },
     "execution_count": 52,
     "metadata": {},
     "output_type": "execute_result"
    }
   ],
   "source": [
    "classifier = [\"cgain\", \"f1_score\", \"log_loss\", \"ami\", \"hamming_loss\", \"roc_auc\"] # , \n",
    "\n",
    "datasets = [\"train\"] \n",
    "methods, dfs = list(), list()\n",
    "\n",
    "for candidate_name in classifier:\n",
    "    methods.append((candidate_name, f\"{candidate_name}.csv.gz\"))\n",
    "\n",
    "for idx, (name, file_name) in enumerate(methods):\n",
    "    df = []\n",
    "    \n",
    "    for d in datasets:\n",
    "        df.append(pd.read_csv(f\"../../experiments/ablation_study/{d}_{file_name}\", compression=\"gzip\")) # usecols=[\"dataset\", eval_score],\n",
    "    \n",
    "    df = pd.concat(df)\n",
    "    df.sort_values(by=\"dataset\", inplace=True)\n",
    "    dfs.append((name, df))\n",
    "\n",
    "df_scores = pd.DataFrame()\n",
    "\n",
    "for name, df in dfs:\n",
    "    df_scores[\"dataset\"] = df.dataset\n",
    "    df_scores[name] = df[eval_score]\n",
    "\n",
    "df_scores.reset_index(drop=True, inplace=True)\n",
    "df_scores"
   ]
  },
  {
   "cell_type": "markdown",
   "metadata": {},
   "source": [
    "Let's calculate the mean/median/std score."
   ]
  },
  {
   "cell_type": "code",
   "execution_count": 53,
   "metadata": {
    "ExecuteTime": {
     "end_time": "2024-10-23T14:26:40.237337Z",
     "start_time": "2024-10-23T14:26:40.227288Z"
    }
   },
   "outputs": [
    {
     "data": {
      "text/plain": "cgain           0.805\nroc_auc         0.783\nami             0.769\nf1_score        0.758\nhamming_loss    0.758\nlog_loss        0.756\ndtype: float64"
     },
     "execution_count": 53,
     "metadata": {},
     "output_type": "execute_result"
    }
   ],
   "source": [
    "df_scores.iloc[:,1:].mean(axis=0).sort_values(ascending=False).round(3)"
   ]
  },
  {
   "cell_type": "code",
   "execution_count": 54,
   "metadata": {
    "ExecuteTime": {
     "end_time": "2024-10-23T14:26:40.244340Z",
     "start_time": "2024-10-23T14:26:40.232643Z"
    }
   },
   "outputs": [
    {
     "data": {
      "text/plain": "cgain           0.816\nroc_auc         0.810\nami             0.789\nf1_score        0.752\nlog_loss        0.752\nhamming_loss    0.752\ndtype: float64"
     },
     "execution_count": 54,
     "metadata": {},
     "output_type": "execute_result"
    }
   ],
   "source": [
    "df_scores.iloc[:,1:].median(axis=0).sort_values(ascending=False).round(3)"
   ]
  },
  {
   "cell_type": "code",
   "execution_count": 55,
   "metadata": {
    "ExecuteTime": {
     "end_time": "2024-10-23T14:26:40.245515Z",
     "start_time": "2024-10-23T14:26:40.236894Z"
    }
   },
   "outputs": [
    {
     "data": {
      "text/plain": "cgain           0.174\nroc_auc         0.191\nami             0.221\nlog_loss        0.225\nf1_score        0.228\nhamming_loss    0.228\ndtype: float64"
     },
     "execution_count": 55,
     "metadata": {},
     "output_type": "execute_result"
    }
   ],
   "source": [
    "df_scores.iloc[:,1:].std(axis=0).sort_values().round(3)"
   ]
  },
  {
   "cell_type": "markdown",
   "metadata": {},
   "source": [
    "Let's compute the wins per method."
   ]
  },
  {
   "cell_type": "code",
   "execution_count": 56,
   "metadata": {
    "ExecuteTime": {
     "end_time": "2024-10-23T14:26:40.245604Z",
     "start_time": "2024-10-23T14:26:40.240695Z"
    }
   },
   "outputs": [],
   "source": [
    "ranks = df_scores.iloc[:,1:].rank(1, method='min', ascending=False)\n",
    "means = np.array(ranks.mean(axis=0))\n",
    "args = np.argsort(means)"
   ]
  },
  {
   "cell_type": "code",
   "execution_count": 57,
   "metadata": {
    "scrolled": true,
    "ExecuteTime": {
     "end_time": "2024-10-23T14:26:40.247119Z",
     "start_time": "2024-10-23T14:26:40.244463Z"
    }
   },
   "outputs": [
    {
     "name": "stdout",
     "output_type": "stream",
     "text": [
      "f1_score:wins=13 rank=1.7\n",
      "hamming_loss:wins=13 rank=1.7\n",
      "log_loss:wins=12 rank=1.8\n",
      "ami:wins=12 rank=2.0\n",
      "roc_auc:wins=14 rank=2.3\n",
      "cgain:wins=13 rank=2.3\n"
     ]
    }
   ],
   "source": [
    "for mean, name in zip(means[args], df_scores.columns[1:].to_numpy()[args]):\n",
    "    print(f\"{name}:wins={ranks[ranks[name] == 1].shape[0]} rank={np.round(mean, 1)}\")"
   ]
  },
  {
   "cell_type": "markdown",
   "metadata": {},
   "source": [
    "Let's plot the CD diagram."
   ]
  },
  {
   "cell_type": "code",
   "execution_count": 58,
   "metadata": {
    "ExecuteTime": {
     "end_time": "2024-10-23T14:26:40.364640Z",
     "start_time": "2024-10-23T14:26:40.247173Z"
    }
   },
   "outputs": [
    {
     "data": {
      "text/plain": "<Figure size 600x250 with 1 Axes>",
      "image/png": "[encoded data removed]"
     },
     "metadata": {},
     "output_type": "display_data"
    }
   ],
   "source": [
    "ax = plot_critical_difference(\n",
    "    scores=df_scores.iloc[:, 1:].to_numpy(),\n",
    "    labels=df_scores.columns[1:].to_numpy(),\n",
    "    alpha=0.05,\n",
    ")\n",
    "\n",
    "plt.savefig(\"../../figures/cd_ablation_study_merge_score_train.pdf\", bbox_inches=\"tight\")"
   ]
  },
  {
   "cell_type": "markdown",
   "source": [
    "Let's plot the MCM."
   ],
   "metadata": {
    "collapsed": false,
    "pycharm": {
     "name": "#%% md\n"
    }
   }
  },
  {
   "cell_type": "code",
   "execution_count": 59,
   "outputs": [
    {
     "name": "stderr",
     "output_type": "stream",
     "text": [
      "\n",
      "  0%|          | 0/6 [00:00<?, ?it/s]\u001B[A\n",
      "Processing cgain, f1_score:   0%|          | 0/6 [00:00<?, ?it/s]\u001B[A/Users/ermshaua/miniconda3/envs/clap/lib/python3.9/site-packages/scipy/stats/_morestats.py:4088: UserWarning: Exact p-value calculation does not work if there are zeros. Switching to normal approximation.\n",
      "  warnings.warn(\"Exact p-value calculation does not work if there are \"\n",
      "\n",
      "Processing cgain, log_loss:   0%|          | 0/6 [00:00<?, ?it/s]\u001B[A\n",
      "Processing cgain, ami:   0%|          | 0/6 [00:00<?, ?it/s]     \u001B[A\n",
      "Processing cgain, hamming_loss:   0%|          | 0/6 [00:00<?, ?it/s]\u001B[A\n",
      "Processing cgain, roc_auc:   0%|          | 0/6 [00:00<?, ?it/s]     \u001B[A\n",
      "Processing f1_score, cgain:   0%|          | 0/6 [00:00<?, ?it/s]\u001B[A\n",
      "Processing f1_score, log_loss:   0%|          | 0/6 [00:00<?, ?it/s]\u001B[A\n",
      "Processing f1_score, ami:   0%|          | 0/6 [00:00<?, ?it/s]     \u001B[A\n",
      "Processing f1_score, hamming_loss:   0%|          | 0/6 [00:00<?, ?it/s]\u001B[A"
     ]
    },
    {
     "ename": "ValueError",
     "evalue": "zero_method 'wilcox' and 'pratt' do not work if x - y is zero for all elements.",
     "output_type": "error",
     "traceback": [
      "\u001B[0;31m---------------------------------------------------------------------------\u001B[0m",
      "\u001B[0;31mValueError\u001B[0m                                Traceback (most recent call last)",
      "Cell \u001B[0;32mIn[59], line 4\u001B[0m\n\u001B[1;32m      1\u001B[0m dir_path \u001B[38;5;241m=\u001B[39m \u001B[38;5;124m\"\u001B[39m\u001B[38;5;124m../../figures/\u001B[39m\u001B[38;5;124m\"\u001B[39m\n\u001B[1;32m      2\u001B[0m file_name \u001B[38;5;241m=\u001B[39m \u001B[38;5;124m\"\u001B[39m\u001B[38;5;124mmcm_ablation_study_merge_score_train\u001B[39m\u001B[38;5;124m\"\u001B[39m\n\u001B[0;32m----> 4\u001B[0m \u001B[43mMCM\u001B[49m\u001B[38;5;241;43m.\u001B[39;49m\u001B[43mcompare\u001B[49m\u001B[43m(\u001B[49m\n\u001B[1;32m      5\u001B[0m \u001B[43m    \u001B[49m\u001B[43moutput_dir\u001B[49m\u001B[38;5;241;43m=\u001B[39;49m\u001B[43mdir_path\u001B[49m\u001B[43m,\u001B[49m\n\u001B[1;32m      6\u001B[0m \u001B[43m    \u001B[49m\u001B[43mused_statistic\u001B[49m\u001B[38;5;241;43m=\u001B[39;49m\u001B[38;5;124;43m\"\u001B[39;49m\u001B[38;5;124;43mScore\u001B[39;49m\u001B[38;5;124;43m\"\u001B[39;49m\u001B[43m,\u001B[49m\n\u001B[1;32m      7\u001B[0m \u001B[43m    \u001B[49m\u001B[43msave_as_json\u001B[49m\u001B[38;5;241;43m=\u001B[39;49m\u001B[38;5;28;43;01mFalse\u001B[39;49;00m\u001B[43m,\u001B[49m\n\u001B[1;32m      8\u001B[0m \u001B[43m    \u001B[49m\u001B[43mdf_results\u001B[49m\u001B[38;5;241;43m=\u001B[39;49m\u001B[43mdf_scores\u001B[49m\u001B[38;5;241;43m.\u001B[39;49m\u001B[43miloc\u001B[49m\u001B[43m[\u001B[49m\u001B[43m:\u001B[49m\u001B[43m,\u001B[49m\u001B[43m \u001B[49m\u001B[38;5;241;43m1\u001B[39;49m\u001B[43m:\u001B[49m\u001B[43m]\u001B[49m\u001B[43m,\u001B[49m\n\u001B[1;32m      9\u001B[0m \u001B[43m    \u001B[49m\u001B[43mpdf_savename\u001B[49m\u001B[38;5;241;43m=\u001B[39;49m\u001B[43mfile_name\u001B[49m\u001B[43m,\u001B[49m\n\u001B[1;32m     10\u001B[0m \u001B[43m    \u001B[49m\u001B[43mload_analysis\u001B[49m\u001B[38;5;241;43m=\u001B[39;49m\u001B[38;5;28;43;01mFalse\u001B[39;49;00m\u001B[43m,\u001B[49m\n\u001B[1;32m     11\u001B[0m \u001B[43m    \u001B[49m\u001B[43mpvalue_correction\u001B[49m\u001B[38;5;241;43m=\u001B[39;49m\u001B[38;5;124;43m\"\u001B[39;49m\u001B[38;5;124;43mHolm\u001B[39;49m\u001B[38;5;124;43m\"\u001B[39;49m\u001B[43m,\u001B[49m\n\u001B[1;32m     12\u001B[0m \u001B[43m    \u001B[49m\u001B[43mrow_comparates\u001B[49m\u001B[38;5;241;43m=\u001B[39;49m\u001B[43m(\u001B[49m\u001B[38;5;124;43m\"\u001B[39;49m\u001B[38;5;124;43mcgain\u001B[39;49m\u001B[38;5;124;43m\"\u001B[39;49m\u001B[43m,\u001B[49m\u001B[43m)\u001B[49m\u001B[43m,\u001B[49m\n\u001B[1;32m     13\u001B[0m \u001B[43m    \u001B[49m\u001B[43mfig_size\u001B[49m\u001B[38;5;241;43m=\u001B[39;49m\u001B[43m(\u001B[49m\u001B[38;5;241;43m20\u001B[39;49m\u001B[43m,\u001B[49m\u001B[38;5;241;43m5\u001B[39;49m\u001B[43m)\u001B[49m\u001B[43m,\u001B[49m\n\u001B[1;32m     14\u001B[0m \u001B[43m    \u001B[49m\u001B[43mfont_size\u001B[49m\u001B[38;5;241;43m=\u001B[39;49m\u001B[38;5;241;43m18\u001B[39;49m\u001B[43m,\u001B[49m\n\u001B[1;32m     15\u001B[0m \u001B[43m    \u001B[49m\u001B[43mprecision\u001B[49m\u001B[38;5;241;43m=\u001B[39;49m\u001B[38;5;241;43m3\u001B[39;49m\n\u001B[1;32m     16\u001B[0m \u001B[43m)\u001B[49m\n\u001B[1;32m     17\u001B[0m Image(filename\u001B[38;5;241m=\u001B[39mos\u001B[38;5;241m.\u001B[39mpath\u001B[38;5;241m.\u001B[39mjoin(dir_path, file_name \u001B[38;5;241m+\u001B[39m \u001B[38;5;124m\"\u001B[39m\u001B[38;5;124m.pdf\u001B[39m\u001B[38;5;124m\"\u001B[39m))\n",
      "File \u001B[0;32m~/Documents/Git/public/classification-label-profile/external/MCM/MCM.py:143\u001B[0m, in \u001B[0;36mcompare\u001B[0;34m(df_results, output_dir, pdf_savename, png_savename, csv_savename, tex_savename, used_statistic, save_as_json, plot_1v1_comparisons, order_WinTieLoss, include_ProbaWinTieLoss, bayesian_rope, include_pvalue, pvalue_test, pvalue_correction, pvalue_threshold, use_mean, order_stats, order_better, dataset_column, precision, load_analysis, row_comparates, col_comparates, excluded_row_comparates, excluded_col_comparates, colormap, fig_size, font_size, colorbar_orientation, colorbar_value, win_label, tie_label, loss_label, include_legend, show_symetry)\u001B[0m\n\u001B[1;32m    140\u001B[0m         \u001B[38;5;28mprint\u001B[39m(\u001B[38;5;124m\"\u001B[39m\u001B[38;5;124mNo dataframe or valid path is given\u001B[39m\u001B[38;5;124m\"\u001B[39m)\n\u001B[1;32m    141\u001B[0m         \u001B[38;5;28;01mreturn\u001B[39;00m\n\u001B[0;32m--> 143\u001B[0m analysis \u001B[38;5;241m=\u001B[39m \u001B[43mget_analysis\u001B[49m\u001B[43m(\u001B[49m\n\u001B[1;32m    144\u001B[0m \u001B[43m    \u001B[49m\u001B[43mdf_results\u001B[49m\u001B[43m,\u001B[49m\n\u001B[1;32m    145\u001B[0m \u001B[43m    \u001B[49m\u001B[43moutput_dir\u001B[49m\u001B[38;5;241;43m=\u001B[39;49m\u001B[43moutput_dir\u001B[49m\u001B[43m,\u001B[49m\n\u001B[1;32m    146\u001B[0m \u001B[43m    \u001B[49m\u001B[43mused_statistic\u001B[49m\u001B[38;5;241;43m=\u001B[39;49m\u001B[43mused_statistic\u001B[49m\u001B[43m,\u001B[49m\n\u001B[1;32m    147\u001B[0m \u001B[43m    \u001B[49m\u001B[43msave_as_json\u001B[49m\u001B[38;5;241;43m=\u001B[39;49m\u001B[43msave_as_json\u001B[49m\u001B[43m,\u001B[49m\n\u001B[1;32m    148\u001B[0m \u001B[43m    \u001B[49m\u001B[43mplot_1v1_comparisons\u001B[49m\u001B[38;5;241;43m=\u001B[39;49m\u001B[43mplot_1v1_comparisons\u001B[49m\u001B[43m,\u001B[49m\n\u001B[1;32m    149\u001B[0m \u001B[43m    \u001B[49m\u001B[43morder_WinTieLoss\u001B[49m\u001B[38;5;241;43m=\u001B[39;49m\u001B[43morder_WinTieLoss\u001B[49m\u001B[43m,\u001B[49m\n\u001B[1;32m    150\u001B[0m \u001B[43m    \u001B[49m\u001B[43minclude_ProbaWinTieLoss\u001B[49m\u001B[38;5;241;43m=\u001B[39;49m\u001B[43minclude_ProbaWinTieLoss\u001B[49m\u001B[43m,\u001B[49m\n\u001B[1;32m    151\u001B[0m \u001B[43m    \u001B[49m\u001B[43mbayesian_rope\u001B[49m\u001B[38;5;241;43m=\u001B[39;49m\u001B[43mbayesian_rope\u001B[49m\u001B[43m,\u001B[49m\n\u001B[1;32m    152\u001B[0m \u001B[43m    \u001B[49m\u001B[43minclude_pvalue\u001B[49m\u001B[38;5;241;43m=\u001B[39;49m\u001B[43minclude_pvalue\u001B[49m\u001B[43m,\u001B[49m\n\u001B[1;32m    153\u001B[0m \u001B[43m    \u001B[49m\u001B[43mpvalue_test\u001B[49m\u001B[38;5;241;43m=\u001B[39;49m\u001B[43mpvalue_test\u001B[49m\u001B[43m,\u001B[49m\n\u001B[1;32m    154\u001B[0m \u001B[43m    \u001B[49m\u001B[43mpvalue_correction\u001B[49m\u001B[38;5;241;43m=\u001B[39;49m\u001B[43mpvalue_correction\u001B[49m\u001B[43m,\u001B[49m\n\u001B[1;32m    155\u001B[0m \u001B[43m    \u001B[49m\u001B[43mpvalue_threshhold\u001B[49m\u001B[38;5;241;43m=\u001B[39;49m\u001B[43mpvalue_threshold\u001B[49m\u001B[43m,\u001B[49m\n\u001B[1;32m    156\u001B[0m \u001B[43m    \u001B[49m\u001B[43muse_mean\u001B[49m\u001B[38;5;241;43m=\u001B[39;49m\u001B[43muse_mean\u001B[49m\u001B[43m,\u001B[49m\n\u001B[1;32m    157\u001B[0m \u001B[43m    \u001B[49m\u001B[43morder_stats\u001B[49m\u001B[38;5;241;43m=\u001B[39;49m\u001B[43morder_stats\u001B[49m\u001B[43m,\u001B[49m\n\u001B[1;32m    158\u001B[0m \u001B[43m    \u001B[49m\u001B[43morder_better\u001B[49m\u001B[38;5;241;43m=\u001B[39;49m\u001B[43morder_better\u001B[49m\u001B[43m,\u001B[49m\n\u001B[1;32m    159\u001B[0m \u001B[43m    \u001B[49m\u001B[43mdataset_column\u001B[49m\u001B[38;5;241;43m=\u001B[39;49m\u001B[43mdataset_column\u001B[49m\u001B[43m,\u001B[49m\n\u001B[1;32m    160\u001B[0m \u001B[43m    \u001B[49m\u001B[43mprecision\u001B[49m\u001B[38;5;241;43m=\u001B[39;49m\u001B[43mprecision\u001B[49m\u001B[43m,\u001B[49m\n\u001B[1;32m    161\u001B[0m \u001B[43m    \u001B[49m\u001B[43mload_analysis\u001B[49m\u001B[38;5;241;43m=\u001B[39;49m\u001B[43mload_analysis\u001B[49m\u001B[43m,\u001B[49m\n\u001B[1;32m    162\u001B[0m \u001B[43m\u001B[49m\u001B[43m)\u001B[49m\n\u001B[1;32m    164\u001B[0m \u001B[38;5;66;03m#### start drawing heatmap\u001B[39;00m\n\u001B[1;32m    165\u001B[0m draw(\n\u001B[1;32m    166\u001B[0m     analysis,\n\u001B[1;32m    167\u001B[0m     pdf_savename\u001B[38;5;241m=\u001B[39mpdf_savename,\n\u001B[0;32m   (...)\u001B[0m\n\u001B[1;32m    186\u001B[0m     show_symetry\u001B[38;5;241m=\u001B[39mshow_symetry,\n\u001B[1;32m    187\u001B[0m )\n",
      "File \u001B[0;32m~/Documents/Git/public/classification-label-profile/external/MCM/MCM.py:296\u001B[0m, in \u001B[0;36mget_analysis\u001B[0;34m(df_results, output_dir, used_statistic, save_as_json, plot_1v1_comparisons, order_WinTieLoss, include_ProbaWinTieLoss, bayesian_rope, include_pvalue, pvalue_test, pvalue_correction, pvalue_threshhold, use_mean, order_stats, order_better, dataset_column, precision, load_analysis)\u001B[0m\n\u001B[1;32m    293\u001B[0m x \u001B[38;5;241m=\u001B[39m df_results[comparate_i]\n\u001B[1;32m    294\u001B[0m y \u001B[38;5;241m=\u001B[39m df_results[comparate_j]\n\u001B[0;32m--> 296\u001B[0m pairwise_content \u001B[38;5;241m=\u001B[39m \u001B[43mget_pairwise_content\u001B[49m\u001B[43m(\u001B[49m\n\u001B[1;32m    297\u001B[0m \u001B[43m    \u001B[49m\u001B[43mx\u001B[49m\u001B[38;5;241;43m=\u001B[39;49m\u001B[43mx\u001B[49m\u001B[43m,\u001B[49m\n\u001B[1;32m    298\u001B[0m \u001B[43m    \u001B[49m\u001B[43my\u001B[49m\u001B[38;5;241;43m=\u001B[39;49m\u001B[43my\u001B[49m\u001B[43m,\u001B[49m\n\u001B[1;32m    299\u001B[0m \u001B[43m    \u001B[49m\u001B[43morder_WinTieLoss\u001B[49m\u001B[38;5;241;43m=\u001B[39;49m\u001B[43morder_WinTieLoss\u001B[49m\u001B[43m,\u001B[49m\n\u001B[1;32m    300\u001B[0m \u001B[43m    \u001B[49m\u001B[43mincludeProbaWinTieLoss\u001B[49m\u001B[38;5;241;43m=\u001B[39;49m\u001B[43minclude_ProbaWinTieLoss\u001B[49m\u001B[43m,\u001B[49m\n\u001B[1;32m    301\u001B[0m \u001B[43m    \u001B[49m\u001B[43minclude_pvalue\u001B[49m\u001B[38;5;241;43m=\u001B[39;49m\u001B[43minclude_pvalue\u001B[49m\u001B[43m,\u001B[49m\n\u001B[1;32m    302\u001B[0m \u001B[43m    \u001B[49m\u001B[43mpvalue_test\u001B[49m\u001B[38;5;241;43m=\u001B[39;49m\u001B[43mpvalue_test\u001B[49m\u001B[43m,\u001B[49m\n\u001B[1;32m    303\u001B[0m \u001B[43m    \u001B[49m\u001B[43mpvalue_threshhold\u001B[49m\u001B[38;5;241;43m=\u001B[39;49m\u001B[43mpvalue_threshhold\u001B[49m\u001B[43m,\u001B[49m\n\u001B[1;32m    304\u001B[0m \u001B[43m    \u001B[49m\u001B[43muse_mean\u001B[49m\u001B[38;5;241;43m=\u001B[39;49m\u001B[43muse_mean\u001B[49m\u001B[43m,\u001B[49m\n\u001B[1;32m    305\u001B[0m \u001B[43m    \u001B[49m\u001B[43mbayesian_rope\u001B[49m\u001B[38;5;241;43m=\u001B[39;49m\u001B[43mbayesian_rope\u001B[49m\u001B[43m,\u001B[49m\n\u001B[1;32m    306\u001B[0m \u001B[43m\u001B[49m\u001B[43m)\u001B[49m\n\u001B[1;32m    308\u001B[0m analysis[pairwise_key] \u001B[38;5;241m=\u001B[39m pairwise_content\n\u001B[1;32m    310\u001B[0m \u001B[38;5;28;01mif\u001B[39;00m plot_1v1_comparisons:\n",
      "File \u001B[0;32m~/Documents/Git/public/classification-label-profile/external/MCM/utils.py:119\u001B[0m, in \u001B[0;36mget_pairwise_content\u001B[0;34m(x, y, order_WinTieLoss, includeProbaWinTieLoss, include_pvalue, pvalue_test, pvalue_threshhold, use_mean, bayesian_rope)\u001B[0m\n\u001B[1;32m    117\u001B[0m \u001B[38;5;28;01mif\u001B[39;00m include_pvalue:\n\u001B[1;32m    118\u001B[0m     \u001B[38;5;28;01mif\u001B[39;00m pvalue_test \u001B[38;5;241m==\u001B[39m \u001B[38;5;124m\"\u001B[39m\u001B[38;5;124mwilcoxon\u001B[39m\u001B[38;5;124m\"\u001B[39m:\n\u001B[0;32m--> 119\u001B[0m         pvalue \u001B[38;5;241m=\u001B[39m \u001B[43mwilcoxon\u001B[49m\u001B[43m(\u001B[49m\u001B[43mx\u001B[49m\u001B[38;5;241;43m=\u001B[39;49m\u001B[43mx\u001B[49m\u001B[43m,\u001B[49m\u001B[43m \u001B[49m\u001B[43my\u001B[49m\u001B[38;5;241;43m=\u001B[39;49m\u001B[43my\u001B[49m\u001B[43m,\u001B[49m\u001B[43m \u001B[49m\u001B[43mzero_method\u001B[49m\u001B[38;5;241;43m=\u001B[39;49m\u001B[38;5;124;43m\"\u001B[39;49m\u001B[38;5;124;43mpratt\u001B[39;49m\u001B[38;5;124;43m\"\u001B[39;49m\u001B[43m)\u001B[49m[\u001B[38;5;241m1\u001B[39m]\n\u001B[1;32m    120\u001B[0m         content[\u001B[38;5;124m\"\u001B[39m\u001B[38;5;124mpvalue\u001B[39m\u001B[38;5;124m\"\u001B[39m] \u001B[38;5;241m=\u001B[39m pvalue\n\u001B[1;32m    122\u001B[0m         \u001B[38;5;28;01mif\u001B[39;00m pvalue_test \u001B[38;5;241m==\u001B[39m \u001B[38;5;124m\"\u001B[39m\u001B[38;5;124mwilcoxon\u001B[39m\u001B[38;5;124m\"\u001B[39m:\n",
      "File \u001B[0;32m~/miniconda3/envs/clap/lib/python3.9/site-packages/scipy/_lib/_util.py:713\u001B[0m, in \u001B[0;36m_rename_parameter.<locals>.decorator.<locals>.wrapper\u001B[0;34m(*args, **kwargs)\u001B[0m\n\u001B[1;32m    711\u001B[0m         \u001B[38;5;28;01mraise\u001B[39;00m \u001B[38;5;167;01mTypeError\u001B[39;00m(message)\n\u001B[1;32m    712\u001B[0m     kwargs[new_name] \u001B[38;5;241m=\u001B[39m kwargs\u001B[38;5;241m.\u001B[39mpop(old_name)\n\u001B[0;32m--> 713\u001B[0m \u001B[38;5;28;01mreturn\u001B[39;00m \u001B[43mfun\u001B[49m\u001B[43m(\u001B[49m\u001B[38;5;241;43m*\u001B[39;49m\u001B[43margs\u001B[49m\u001B[43m,\u001B[49m\u001B[43m \u001B[49m\u001B[38;5;241;43m*\u001B[39;49m\u001B[38;5;241;43m*\u001B[39;49m\u001B[43mkwargs\u001B[49m\u001B[43m)\u001B[49m\n",
      "File \u001B[0;32m~/miniconda3/envs/clap/lib/python3.9/site-packages/scipy/stats/_axis_nan_policy.py:523\u001B[0m, in \u001B[0;36m_axis_nan_policy_factory.<locals>.axis_nan_policy_decorator.<locals>.axis_nan_policy_wrapper\u001B[0;34m(***failed resolving arguments***)\u001B[0m\n\u001B[1;32m    521\u001B[0m \u001B[38;5;28;01mif\u001B[39;00m sentinel:\n\u001B[1;32m    522\u001B[0m     samples \u001B[38;5;241m=\u001B[39m _remove_sentinel(samples, paired, sentinel)\n\u001B[0;32m--> 523\u001B[0m res \u001B[38;5;241m=\u001B[39m \u001B[43mhypotest_fun_out\u001B[49m\u001B[43m(\u001B[49m\u001B[38;5;241;43m*\u001B[39;49m\u001B[43msamples\u001B[49m\u001B[43m,\u001B[49m\u001B[43m \u001B[49m\u001B[38;5;241;43m*\u001B[39;49m\u001B[38;5;241;43m*\u001B[39;49m\u001B[43mkwds\u001B[49m\u001B[43m)\u001B[49m\n\u001B[1;32m    524\u001B[0m res \u001B[38;5;241m=\u001B[39m result_to_tuple(res)\n\u001B[1;32m    525\u001B[0m res \u001B[38;5;241m=\u001B[39m _add_reduced_axes(res, reduced_axes, keepdims)\n",
      "File \u001B[0;32m~/miniconda3/envs/clap/lib/python3.9/site-packages/scipy/stats/_morestats.py:4094\u001B[0m, in \u001B[0;36mwilcoxon\u001B[0;34m(x, y, zero_method, correction, alternative, method)\u001B[0m\n\u001B[1;32m   4092\u001B[0m \u001B[38;5;28;01mif\u001B[39;00m zero_method \u001B[38;5;129;01min\u001B[39;00m [\u001B[38;5;124m\"\u001B[39m\u001B[38;5;124mwilcox\u001B[39m\u001B[38;5;124m\"\u001B[39m, \u001B[38;5;124m\"\u001B[39m\u001B[38;5;124mpratt\u001B[39m\u001B[38;5;124m\"\u001B[39m]:\n\u001B[1;32m   4093\u001B[0m     \u001B[38;5;28;01mif\u001B[39;00m n_zero \u001B[38;5;241m==\u001B[39m \u001B[38;5;28mlen\u001B[39m(d):\n\u001B[0;32m-> 4094\u001B[0m         \u001B[38;5;28;01mraise\u001B[39;00m \u001B[38;5;167;01mValueError\u001B[39;00m(\u001B[38;5;124m\"\u001B[39m\u001B[38;5;124mzero_method \u001B[39m\u001B[38;5;124m'\u001B[39m\u001B[38;5;124mwilcox\u001B[39m\u001B[38;5;124m'\u001B[39m\u001B[38;5;124m and \u001B[39m\u001B[38;5;124m'\u001B[39m\u001B[38;5;124mpratt\u001B[39m\u001B[38;5;124m'\u001B[39m\u001B[38;5;124m do not \u001B[39m\u001B[38;5;124m\"\u001B[39m\n\u001B[1;32m   4095\u001B[0m                          \u001B[38;5;124m\"\u001B[39m\u001B[38;5;124mwork if x - y is zero for all elements.\u001B[39m\u001B[38;5;124m\"\u001B[39m)\n\u001B[1;32m   4096\u001B[0m \u001B[38;5;28;01mif\u001B[39;00m zero_method \u001B[38;5;241m==\u001B[39m \u001B[38;5;124m\"\u001B[39m\u001B[38;5;124mwilcox\u001B[39m\u001B[38;5;124m\"\u001B[39m:\n\u001B[1;32m   4097\u001B[0m     \u001B[38;5;66;03m# Keep all non-zero differences\u001B[39;00m\n\u001B[1;32m   4098\u001B[0m     d \u001B[38;5;241m=\u001B[39m compress(np\u001B[38;5;241m.\u001B[39mnot_equal(d, \u001B[38;5;241m0\u001B[39m), d)\n",
      "\u001B[0;31mValueError\u001B[0m: zero_method 'wilcox' and 'pratt' do not work if x - y is zero for all elements."
     ]
    }
   ],
   "source": [
    "dir_path = \"../../figures/\"\n",
    "file_name = \"mcm_ablation_study_merge_score_train\"\n",
    "\n",
    "MCM.compare(\n",
    "    output_dir=dir_path,\n",
    "    used_statistic=\"Score\",\n",
    "    save_as_json=False,\n",
    "    df_results=df_scores.iloc[:, 1:],\n",
    "    pdf_savename=file_name,\n",
    "    load_analysis=False,\n",
    "    pvalue_correction=\"Holm\",\n",
    "    row_comparates=(\"cgain\",),\n",
    "    fig_size=(20,5),\n",
    "    font_size=18,\n",
    "    precision=3\n",
    ")\n",
    "Image(filename=os.path.join(dir_path, file_name + \".pdf\"))"
   ],
   "metadata": {
    "collapsed": false,
    "pycharm": {
     "name": "#%%\n"
    },
    "ExecuteTime": {
     "end_time": "2024-10-23T14:26:40.423856Z",
     "start_time": "2024-10-23T14:26:40.363708Z"
    }
   }
  },
  {
   "cell_type": "markdown",
   "metadata": {},
   "source": [
    "Let's compute wins/losses against cgain."
   ]
  },
  {
   "cell_type": "code",
   "execution_count": null,
   "metadata": {
    "ExecuteTime": {
     "start_time": "2024-10-23T14:26:40.423386Z"
    }
   },
   "outputs": [],
   "source": [
    "selection = \"cgain\"\n",
    "\n",
    "for rival in df_scores.columns[1:]:\n",
    "    if rival == selection: continue\n",
    "\n",
    "    df_pair = df_scores[[selection, rival]]\n",
    "    pair_ranks = df_pair.rank(1, method='min', ascending=False)\n",
    "\n",
    "    wins = pair_ranks[(pair_ranks[selection] == 1) & (pair_ranks[rival] == 2)].shape[0]\n",
    "    losses = pair_ranks[(pair_ranks[selection] == 2) & (pair_ranks[rival] == 1)].shape[0]\n",
    "    ties = pair_ranks[(pair_ranks[selection] == 1) & (pair_ranks[rival] == 1)].shape[0]\n",
    "\n",
    "    assert wins + losses + ties == pair_ranks.shape[0]\n",
    "\n",
    "    print(f\"{selection} vs {rival}: (wins/ties/losses): {wins}/{ties}/{losses}\")"
   ]
  },
  {
   "cell_type": "code",
   "execution_count": null,
   "metadata": {
    "pycharm": {
     "name": "#%%\n"
    },
    "ExecuteTime": {
     "end_time": "2024-10-23T14:26:40.458559Z",
     "start_time": "2024-10-23T14:26:40.441953Z"
    }
   },
   "outputs": [],
   "source": [
    "fontsize = 24\n",
    "_, ax = plt.subplots(figsize=(15, 5))\n",
    "\n",
    "# sort by median performance\n",
    "df_sorted_scores = df_scores[df_scores.iloc[:, 1:].median(axis=0).sort_values().index]\n",
    "\n",
    "df_sorted_scores.boxplot(ax=ax, rot=90)\n",
    "ax.set_ylabel(\"AMI\", fontsize=fontsize)\n",
    "\n",
    "for tick in ax.xaxis.get_major_ticks():\n",
    "    tick.label1.set_fontsize(fontsize)\n",
    "\n",
    "for tick in ax.yaxis.get_major_ticks():\n",
    "    tick.label1.set_fontsize(fontsize)\n",
    "\n",
    "ax.set_xticklabels(df_sorted_scores.columns, rotation=45, ha=\"right\")\n",
    "ax.set_yticks(np.round(np.arange(0, 1.0 + .2, .2), 1))\n",
    "\n",
    "plt.savefig(f\"../../figures/bp_ablation_study_merge_score_train.pdf\", bbox_inches=\"tight\")"
   ]
  },
  {
   "cell_type": "code",
   "execution_count": null,
   "outputs": [],
   "source": [],
   "metadata": {
    "collapsed": false,
    "ExecuteTime": {
     "start_time": "2024-10-23T14:26:40.442795Z"
    }
   }
  }
 ],
 "metadata": {
  "kernelspec": {
   "display_name": "Python 3 (ipykernel)",
   "language": "python",
   "name": "python3"
  },
  "language_info": {
   "codemirror_mode": {
    "name": "ipython",
    "version": 3
   },
   "file_extension": ".py",
   "mimetype": "text/x-python",
   "name": "python",
   "nbconvert_exporter": "python",
   "pygments_lexer": "ipython3",
   "version": "3.8.12"
  }
 },
 "nbformat": 4,
 "nbformat_minor": 4
}
