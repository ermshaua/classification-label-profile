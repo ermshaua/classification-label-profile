{
 "cells": [
  {
   "cell_type": "markdown",
   "metadata": {},
   "source": [
    "# Ablation Study: Window Size\n",
    "In this notebook, we compare ClaP with with different window size selection algorithms."
   ]
  },
  {
   "cell_type": "code",
   "execution_count": 14,
   "metadata": {
    "ExecuteTime": {
     "end_time": "2024-10-23T14:36:48.245960Z",
     "start_time": "2024-10-23T14:36:48.213338Z"
    }
   },
   "outputs": [],
   "source": [
    "import matplotlib\n",
    "\n",
    "matplotlib.rcParams['pdf.fonttype'] = 42\n",
    "matplotlib.rcParams['ps.fonttype'] = 42"
   ]
  },
  {
   "cell_type": "code",
   "execution_count": 15,
   "metadata": {
    "ExecuteTime": {
     "end_time": "2024-10-23T14:36:48.251502Z",
     "start_time": "2024-10-23T14:36:48.217950Z"
    }
   },
   "outputs": [],
   "source": [
    "import numpy as np\n",
    "import pandas as pd\n",
    "\n",
    "pd.set_option('display.max_rows', None)\n",
    "\n",
    "import matplotlib.pyplot as plt\n",
    "import seaborn as sns\n",
    "\n",
    "from aeon.visualisation import plot_critical_difference\n",
    "from external.MCM import MCM\n",
    "from wand.image import Image\n",
    "\n",
    "sns.set_theme()\n",
    "sns.set_color_codes()\n",
    "\n",
    "import os\n",
    "import sys\n",
    "\n",
    "sys.path.append(\"../../\")"
   ]
  },
  {
   "cell_type": "markdown",
   "metadata": {},
   "source": [
    "Let's choose a score for evaluation (AMI)."
   ]
  },
  {
   "cell_type": "code",
   "execution_count": 16,
   "metadata": {
    "ExecuteTime": {
     "end_time": "2024-10-23T14:36:48.251704Z",
     "start_time": "2024-10-23T14:36:48.220517Z"
    }
   },
   "outputs": [],
   "source": [
    "eval_score = \"covering_score\""
   ]
  },
  {
   "cell_type": "markdown",
   "metadata": {},
   "source": [
    "Let's load the scores from the different methods."
   ]
  },
  {
   "cell_type": "code",
   "execution_count": 17,
   "metadata": {
    "ExecuteTime": {
     "end_time": "2024-10-23T14:36:48.275005Z",
     "start_time": "2024-10-23T14:36:48.225198Z"
    }
   },
   "outputs": [
    {
     "data": {
      "text/plain": "                       dataset   suss    fft    acf\n0                DodgerLoopDay  1.000  1.000  1.000\n1                       EEGRat  0.825  0.909  0.909\n2                      EEGRat2  0.737  0.737  0.737\n3                     FaceFour  0.840  0.671  0.671\n4            GrandMalSeizures2  0.538  0.538  0.594\n5                 GreatBarbet1  0.816  0.816  0.816\n6                      Herring  1.000  1.000  1.000\n7                  InlineSkate  0.486  0.486  0.486\n8                   InsectEPG1  0.409  0.430  0.767\n9          MelbournePedestrian  0.984  0.984  0.984\n10                    NogunGun  1.000  0.517  0.517\n11  NonInvasiveFetalECGThorax1  0.836  0.836  0.836\n12                   ShapesAll  0.987  0.987  0.987\n13                     TiltECG  0.678  0.678  0.662\n14            ToeSegmentation1  0.731  0.696  0.731\n15            ToeSegmentation2  0.997  0.997  0.938\n16                       Trace  0.961  0.961  0.961\n17        UWaveGestureLibraryY  0.789  0.789  0.789\n18        UWaveGestureLibraryZ  0.810  0.810  0.810\n19                WordSynonyms  0.727  0.727  0.727\n20                        Yoga  0.752  0.752  0.752",
      "text/html": "<div>\n<style scoped>\n    .dataframe tbody tr th:only-of-type {\n        vertical-align: middle;\n    }\n\n    .dataframe tbody tr th {\n        vertical-align: top;\n    }\n\n    .dataframe thead th {\n        text-align: right;\n    }\n</style>\n<table border=\"1\" class=\"dataframe\">\n  <thead>\n    <tr style=\"text-align: right;\">\n      <th></th>\n      <th>dataset</th>\n      <th>suss</th>\n      <th>fft</th>\n      <th>acf</th>\n    </tr>\n  </thead>\n  <tbody>\n    <tr>\n      <th>0</th>\n      <td>DodgerLoopDay</td>\n      <td>1.000</td>\n      <td>1.000</td>\n      <td>1.000</td>\n    </tr>\n    <tr>\n      <th>1</th>\n      <td>EEGRat</td>\n      <td>0.825</td>\n      <td>0.909</td>\n      <td>0.909</td>\n    </tr>\n    <tr>\n      <th>2</th>\n      <td>EEGRat2</td>\n      <td>0.737</td>\n      <td>0.737</td>\n      <td>0.737</td>\n    </tr>\n    <tr>\n      <th>3</th>\n      <td>FaceFour</td>\n      <td>0.840</td>\n      <td>0.671</td>\n      <td>0.671</td>\n    </tr>\n    <tr>\n      <th>4</th>\n      <td>GrandMalSeizures2</td>\n      <td>0.538</td>\n      <td>0.538</td>\n      <td>0.594</td>\n    </tr>\n    <tr>\n      <th>5</th>\n      <td>GreatBarbet1</td>\n      <td>0.816</td>\n      <td>0.816</td>\n      <td>0.816</td>\n    </tr>\n    <tr>\n      <th>6</th>\n      <td>Herring</td>\n      <td>1.000</td>\n      <td>1.000</td>\n      <td>1.000</td>\n    </tr>\n    <tr>\n      <th>7</th>\n      <td>InlineSkate</td>\n      <td>0.486</td>\n      <td>0.486</td>\n      <td>0.486</td>\n    </tr>\n    <tr>\n      <th>8</th>\n      <td>InsectEPG1</td>\n      <td>0.409</td>\n      <td>0.430</td>\n      <td>0.767</td>\n    </tr>\n    <tr>\n      <th>9</th>\n      <td>MelbournePedestrian</td>\n      <td>0.984</td>\n      <td>0.984</td>\n      <td>0.984</td>\n    </tr>\n    <tr>\n      <th>10</th>\n      <td>NogunGun</td>\n      <td>1.000</td>\n      <td>0.517</td>\n      <td>0.517</td>\n    </tr>\n    <tr>\n      <th>11</th>\n      <td>NonInvasiveFetalECGThorax1</td>\n      <td>0.836</td>\n      <td>0.836</td>\n      <td>0.836</td>\n    </tr>\n    <tr>\n      <th>12</th>\n      <td>ShapesAll</td>\n      <td>0.987</td>\n      <td>0.987</td>\n      <td>0.987</td>\n    </tr>\n    <tr>\n      <th>13</th>\n      <td>TiltECG</td>\n      <td>0.678</td>\n      <td>0.678</td>\n      <td>0.662</td>\n    </tr>\n    <tr>\n      <th>14</th>\n      <td>ToeSegmentation1</td>\n      <td>0.731</td>\n      <td>0.696</td>\n      <td>0.731</td>\n    </tr>\n    <tr>\n      <th>15</th>\n      <td>ToeSegmentation2</td>\n      <td>0.997</td>\n      <td>0.997</td>\n      <td>0.938</td>\n    </tr>\n    <tr>\n      <th>16</th>\n      <td>Trace</td>\n      <td>0.961</td>\n      <td>0.961</td>\n      <td>0.961</td>\n    </tr>\n    <tr>\n      <th>17</th>\n      <td>UWaveGestureLibraryY</td>\n      <td>0.789</td>\n      <td>0.789</td>\n      <td>0.789</td>\n    </tr>\n    <tr>\n      <th>18</th>\n      <td>UWaveGestureLibraryZ</td>\n      <td>0.810</td>\n      <td>0.810</td>\n      <td>0.810</td>\n    </tr>\n    <tr>\n      <th>19</th>\n      <td>WordSynonyms</td>\n      <td>0.727</td>\n      <td>0.727</td>\n      <td>0.727</td>\n    </tr>\n    <tr>\n      <th>20</th>\n      <td>Yoga</td>\n      <td>0.752</td>\n      <td>0.752</td>\n      <td>0.752</td>\n    </tr>\n  </tbody>\n</table>\n</div>"
     },
     "execution_count": 17,
     "metadata": {},
     "output_type": "execute_result"
    }
   ],
   "source": [
    "classifier = [\"suss\", \"fft\", \"acf\"] # , \n",
    "\n",
    "datasets = [\"train\"] \n",
    "methods, dfs = list(), list()\n",
    "\n",
    "for candidate_name in classifier:\n",
    "    methods.append((candidate_name, f\"{candidate_name}.csv.gz\"))\n",
    "\n",
    "for idx, (name, file_name) in enumerate(methods):\n",
    "    df = []\n",
    "    \n",
    "    for d in datasets:\n",
    "        df.append(pd.read_csv(f\"../../experiments/ablation_study/{d}_{file_name}\", compression=\"gzip\")) # usecols=[\"dataset\", eval_score],\n",
    "    \n",
    "    df = pd.concat(df)\n",
    "    df.sort_values(by=\"dataset\", inplace=True)\n",
    "    dfs.append((name, df))\n",
    "\n",
    "df_scores = pd.DataFrame()\n",
    "\n",
    "for name, df in dfs:\n",
    "    df_scores[\"dataset\"] = df.dataset\n",
    "    df_scores[name] = df[eval_score]\n",
    "\n",
    "df_scores.reset_index(drop=True, inplace=True)\n",
    "df_scores"
   ]
  },
  {
   "cell_type": "markdown",
   "metadata": {},
   "source": [
    "Let's calculate the mean/median/std score."
   ]
  },
  {
   "cell_type": "code",
   "execution_count": 18,
   "metadata": {
    "ExecuteTime": {
     "end_time": "2024-10-23T14:36:48.275587Z",
     "start_time": "2024-10-23T14:36:48.251612Z"
    }
   },
   "outputs": [
    {
     "data": {
      "text/plain": "suss    0.805\nacf     0.794\nfft     0.777\ndtype: float64"
     },
     "execution_count": 18,
     "metadata": {},
     "output_type": "execute_result"
    }
   ],
   "source": [
    "df_scores.iloc[:,1:].mean(axis=0).sort_values(ascending=False).round(3)"
   ]
  },
  {
   "cell_type": "code",
   "execution_count": 19,
   "metadata": {
    "ExecuteTime": {
     "end_time": "2024-10-23T14:36:48.275662Z",
     "start_time": "2024-10-23T14:36:48.255868Z"
    }
   },
   "outputs": [
    {
     "data": {
      "text/plain": "suss    0.816\nfft     0.789\nacf     0.789\ndtype: float64"
     },
     "execution_count": 19,
     "metadata": {},
     "output_type": "execute_result"
    }
   ],
   "source": [
    "df_scores.iloc[:,1:].median(axis=0).sort_values(ascending=False).round(3)"
   ]
  },
  {
   "cell_type": "code",
   "execution_count": 20,
   "metadata": {
    "ExecuteTime": {
     "end_time": "2024-10-23T14:36:48.275751Z",
     "start_time": "2024-10-23T14:36:48.260086Z"
    }
   },
   "outputs": [
    {
     "data": {
      "text/plain": "acf     0.155\nsuss    0.174\nfft     0.181\ndtype: float64"
     },
     "execution_count": 20,
     "metadata": {},
     "output_type": "execute_result"
    }
   ],
   "source": [
    "df_scores.iloc[:,1:].std(axis=0).sort_values().round(3)"
   ]
  },
  {
   "cell_type": "markdown",
   "metadata": {},
   "source": [
    "Let's compute the wins per method."
   ]
  },
  {
   "cell_type": "code",
   "execution_count": 21,
   "metadata": {
    "ExecuteTime": {
     "end_time": "2024-10-23T14:36:48.275797Z",
     "start_time": "2024-10-23T14:36:48.263207Z"
    }
   },
   "outputs": [],
   "source": [
    "ranks = df_scores.iloc[:,1:].rank(1, method='min', ascending=False)\n",
    "means = np.array(ranks.mean(axis=0))\n",
    "args = np.argsort(means)"
   ]
  },
  {
   "cell_type": "code",
   "execution_count": 22,
   "metadata": {
    "scrolled": true,
    "ExecuteTime": {
     "end_time": "2024-10-23T14:36:48.275873Z",
     "start_time": "2024-10-23T14:36:48.266352Z"
    }
   },
   "outputs": [
    {
     "name": "stdout",
     "output_type": "stream",
     "text": [
      "suss:wins=18 rank=1.2\n",
      "fft:wins=16 rank=1.3\n",
      "acf:wins=17 rank=1.3\n"
     ]
    }
   ],
   "source": [
    "for mean, name in zip(means[args], df_scores.columns[1:].to_numpy()[args]):\n",
    "    print(f\"{name}:wins={ranks[ranks[name] == 1].shape[0]} rank={np.round(mean, 1)}\")"
   ]
  },
  {
   "cell_type": "markdown",
   "metadata": {},
   "source": [
    "Let's plot the CD diagram."
   ]
  },
  {
   "cell_type": "code",
   "execution_count": 23,
   "metadata": {
    "ExecuteTime": {
     "end_time": "2024-10-23T14:36:48.369766Z",
     "start_time": "2024-10-23T14:36:48.269710Z"
    }
   },
   "outputs": [
    {
     "name": "stderr",
     "output_type": "stream",
     "text": [
      "/var/folders/1m/8xt9fm8d1575s4p3vrgccf7r0000gn/T/ipykernel_4364/2105585120.py:7: UserWarning: This figure includes Axes that are not compatible with tight_layout, so results might be incorrect.\n",
      "  plt.savefig(\"../../figures/cd_ablation_study_window_size_train.pdf\", bbox_inches=\"tight\")\n",
      "/Users/ermshaua/miniconda3/envs/clap/lib/python3.9/site-packages/IPython/core/pylabtools.py:152: UserWarning: This figure includes Axes that are not compatible with tight_layout, so results might be incorrect.\n",
      "  fig.canvas.print_figure(bytes_io, **kw)\n"
     ]
    },
    {
     "data": {
      "text/plain": "<Figure size 600x220 with 1 Axes>",
      "image/png": "[encoded data removed]"
     },
     "metadata": {},
     "output_type": "display_data"
    }
   ],
   "source": [
    "ax = plot_critical_difference(\n",
    "    scores=df_scores.iloc[:, 1:].to_numpy(),\n",
    "    labels=df_scores.columns[1:].to_numpy(),\n",
    "    alpha=0.05,\n",
    ")\n",
    "\n",
    "plt.savefig(\"../../figures/cd_ablation_study_window_size_train.pdf\", bbox_inches=\"tight\")"
   ]
  },
  {
   "cell_type": "markdown",
   "source": [
    "Let's plot the MCM."
   ],
   "metadata": {
    "collapsed": false,
    "pycharm": {
     "name": "#%% md\n"
    }
   }
  },
  {
   "cell_type": "code",
   "execution_count": 24,
   "outputs": [
    {
     "name": "stderr",
     "output_type": "stream",
     "text": [
      "Processing suss, fft:   0%|          | 0/3 [00:00<?, ?it/s]/Users/ermshaua/miniconda3/envs/clap/lib/python3.9/site-packages/scipy/stats/_morestats.py:4088: UserWarning: Exact p-value calculation does not work if there are zeros. Switching to normal approximation.\n",
      "  warnings.warn(\"Exact p-value calculation does not work if there are \"\n",
      "Processing acf, fft:   0%|          | 0/3 [00:00<?, ?it/s] \n"
     ]
    },
    {
     "data": {
      "text/plain": "<wand.image.Image: 73e3812 'PDF' (1439x349)>",
      "image/png": "[encoded data removed]"
     },
     "execution_count": 24,
     "metadata": {},
     "output_type": "execute_result"
    }
   ],
   "source": [
    "dir_path = \"../../figures/\"\n",
    "file_name = \"mcm_ablation_study_window_size_train\"\n",
    "\n",
    "MCM.compare(\n",
    "    output_dir=dir_path,\n",
    "    used_statistic=\"Score\",\n",
    "    save_as_json=False,\n",
    "    df_results=df_scores.iloc[:, 1:],\n",
    "    pdf_savename=file_name,\n",
    "    load_analysis=False,\n",
    "    pvalue_correction=\"Holm\",\n",
    "    row_comparates=(\"suss\",),\n",
    "    fig_size=(20,5),\n",
    "    font_size=18,\n",
    "    precision=3\n",
    ")\n",
    "Image(filename=os.path.join(dir_path, file_name + \".pdf\"))"
   ],
   "metadata": {
    "collapsed": false,
    "pycharm": {
     "name": "#%%\n"
    },
    "ExecuteTime": {
     "end_time": "2024-10-23T14:36:48.853585Z",
     "start_time": "2024-10-23T14:36:48.369553Z"
    }
   }
  },
  {
   "cell_type": "markdown",
   "metadata": {},
   "source": [
    "Let's compute wins/losses against cgain."
   ]
  },
  {
   "cell_type": "code",
   "execution_count": 25,
   "metadata": {
    "ExecuteTime": {
     "end_time": "2024-10-23T14:36:48.853717Z",
     "start_time": "2024-10-23T14:36:48.844129Z"
    }
   },
   "outputs": [
    {
     "name": "stdout",
     "output_type": "stream",
     "text": [
      "suss vs fft: (wins/ties/losses): 3/16/2\n",
      "suss vs acf: (wins/ties/losses): 4/14/3\n"
     ]
    }
   ],
   "source": [
    "selection = \"suss\"\n",
    "\n",
    "for rival in df_scores.columns[1:]:\n",
    "    if rival == selection: continue\n",
    "\n",
    "    df_pair = df_scores[[selection, rival]]\n",
    "    pair_ranks = df_pair.rank(1, method='min', ascending=False)\n",
    "\n",
    "    wins = pair_ranks[(pair_ranks[selection] == 1) & (pair_ranks[rival] == 2)].shape[0]\n",
    "    losses = pair_ranks[(pair_ranks[selection] == 2) & (pair_ranks[rival] == 1)].shape[0]\n",
    "    ties = pair_ranks[(pair_ranks[selection] == 1) & (pair_ranks[rival] == 1)].shape[0]\n",
    "\n",
    "    assert wins + losses + ties == pair_ranks.shape[0]\n",
    "\n",
    "    print(f\"{selection} vs {rival}: (wins/ties/losses): {wins}/{ties}/{losses}\")"
   ]
  },
  {
   "cell_type": "code",
   "execution_count": 26,
   "metadata": {
    "pycharm": {
     "name": "#%%\n"
    },
    "ExecuteTime": {
     "end_time": "2024-10-23T14:36:49.040863Z",
     "start_time": "2024-10-23T14:36:48.851418Z"
    }
   },
   "outputs": [
    {
     "data": {
      "text/plain": "<Figure size 1500x500 with 1 Axes>",
      "image/png": "[encoded data removed]"
     },
     "metadata": {},
     "output_type": "display_data"
    }
   ],
   "source": [
    "fontsize = 24\n",
    "_, ax = plt.subplots(figsize=(15, 5))\n",
    "\n",
    "# sort by median performance\n",
    "df_sorted_scores = df_scores[df_scores.iloc[:, 1:].median(axis=0).sort_values().index]\n",
    "\n",
    "df_sorted_scores.boxplot(ax=ax, rot=90)\n",
    "ax.set_ylabel(\"AMI\", fontsize=fontsize)\n",
    "\n",
    "for tick in ax.xaxis.get_major_ticks():\n",
    "    tick.label1.set_fontsize(fontsize)\n",
    "\n",
    "for tick in ax.yaxis.get_major_ticks():\n",
    "    tick.label1.set_fontsize(fontsize)\n",
    "\n",
    "ax.set_xticklabels(df_sorted_scores.columns, rotation=45, ha=\"right\")\n",
    "ax.set_yticks(np.round(np.arange(0, 1.0 + .2, .2), 1))\n",
    "\n",
    "plt.savefig(f\"../../figures/bp_ablation_study_window_size_train.pdf\", bbox_inches=\"tight\")"
   ]
  },
  {
   "cell_type": "code",
   "execution_count": 26,
   "outputs": [],
   "source": [],
   "metadata": {
    "collapsed": false,
    "ExecuteTime": {
     "end_time": "2024-10-23T14:36:49.042913Z",
     "start_time": "2024-10-23T14:36:49.041032Z"
    }
   }
  }
 ],
 "metadata": {
  "kernelspec": {
   "display_name": "Python 3 (ipykernel)",
   "language": "python",
   "name": "python3"
  },
  "language_info": {
   "codemirror_mode": {
    "name": "ipython",
    "version": 3
   },
   "file_extension": ".py",
   "mimetype": "text/x-python",
   "name": "python",
   "nbconvert_exporter": "python",
   "pygments_lexer": "ipython3",
   "version": "3.8.12"
  }
 },
 "nbformat": 4,
 "nbformat_minor": 4
}
