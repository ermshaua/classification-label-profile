{
 "cells": [
  {
   "cell_type": "markdown",
   "source": [
    "# CLaP Example Visualization\n",
    "In this notebook, we visualize an example of CLaP."
   ],
   "metadata": {
    "collapsed": false
   },
   "id": "75f9cc1e50f0d7c9"
  },
  {
   "cell_type": "code",
   "execution_count": 36,
   "outputs": [],
   "source": [
    "# fot type settings for paper plots\n",
    "import matplotlib\n",
    "matplotlib.rcParams['pdf.fonttype'] = 42\n",
    "matplotlib.rcParams['ps.fonttype'] = 42"
   ],
   "metadata": {
    "collapsed": false,
    "ExecuteTime": {
     "end_time": "2024-03-14T15:11:00.864016Z",
     "start_time": "2024-03-14T15:11:00.843113Z"
    }
   },
   "id": "fa35f391a28127fd"
  },
  {
   "cell_type": "code",
   "execution_count": 37,
   "outputs": [],
   "source": [
    "import sys\n",
    "sys.path.append(\"../../\")\n",
    "\n",
    "import numpy as np\n",
    "import pandas as pd\n",
    "\n",
    "from src.utils import load_tssb_datasets, load_has_datasets, load_datasets\n",
    "import matplotlib.pyplot as plt\n",
    "import seaborn as sns\n",
    "from sklearn.metrics import f1_score\n",
    "\n",
    "from src.visualization import plot_state_detection\n",
    "from src.clap import CLaP\n",
    "\n",
    "sns.set_theme()\n",
    "sns.set_color_codes()\n",
    "\n",
    "import os"
   ],
   "metadata": {
    "collapsed": false,
    "ExecuteTime": {
     "end_time": "2024-03-14T15:11:00.864315Z",
     "start_time": "2024-03-14T15:11:00.848082Z"
    }
   },
   "id": "88d6d1cae87acac2"
  },
  {
   "cell_type": "code",
   "execution_count": 38,
   "outputs": [
    {
     "data": {
      "text/plain": "                               dataset  window_size  \\\n0     indoor_subject1_routine1 (id125)           50   \n1     indoor_subject1_routine1 (id140)           50   \n2      indoor_subject1_routine1 (id93)           50   \n3      indoor_subject1_routine1 (id52)           50   \n4     indoor_subject1_routine1 (id221)           50   \n..                                 ...          ...   \n245   outdoor_subject7_routine3 (id26)           50   \n246   outdoor_subject7_routine3 (id48)           50   \n247   outdoor_subject7_routine3 (id78)           50   \n248  outdoor_subject7_routine3 (id163)           50   \n249   outdoor_subject7_routine3 (id47)           50   \n\n                           change_points                 labels  \\\n0         [1461, 2952, 4473, 5022, 6460]     [1, 0, 1, 2, 0, 3]   \n1    [772, 2056, 3521, 4835, 5283, 6893]  [2, 1, 3, 1, 2, 0, 3]   \n2         [1211, 2043, 2836, 3529, 4036]     [2, 4, 0, 1, 3, 4]   \n3          [739, 1433, 2044, 2875, 3589]     [0, 1, 2, 3, 1, 0]   \n4         [1506, 3033, 4477, 5348, 6805]     [2, 0, 2, 3, 0, 1]   \n..                                   ...                    ...   \n245                                   []                    [0]   \n246                                   []                    [0]   \n247                          [529, 1778]              [1, 0, 1]   \n248                                   []                    [0]   \n249                               [3533]                 [0, 1]   \n\n                                           time_series  \n0    [[0.5025029458177382, 0.78151899859646, 0.4075...  \n1    [[0.41870591057777035, 0.8157450984128195, 0.3...  \n2    [[0.6809143354242022, 0.8390696507060063, 0.34...  \n3    [[0.5215244935774459, 0.7310931419213416, 0.50...  \n4    [[0.48401058282315657, 0.6748131355527517, 0.5...  \n..                                                 ...  \n245  [[0.7491045845272207, 0.5873851669280753, 0.53...  \n246  [[0.07761887299841085, 0.9513191404126248, 0.3...  \n247  [[0.48061181058716396, 0.5648863723314714, 1.0...  \n248  [[0.17304133251079593, 0.8704303563165199, 0.2...  \n249  [[0.27734466588511136, 0.5333349661996669, 0.2...  \n\n[250 rows x 5 columns]",
      "text/html": "<div>\n<style scoped>\n    .dataframe tbody tr th:only-of-type {\n        vertical-align: middle;\n    }\n\n    .dataframe tbody tr th {\n        vertical-align: top;\n    }\n\n    .dataframe thead th {\n        text-align: right;\n    }\n</style>\n<table border=\"1\" class=\"dataframe\">\n  <thead>\n    <tr style=\"text-align: right;\">\n      <th></th>\n      <th>dataset</th>\n      <th>window_size</th>\n      <th>change_points</th>\n      <th>labels</th>\n      <th>time_series</th>\n    </tr>\n  </thead>\n  <tbody>\n    <tr>\n      <th>0</th>\n      <td>indoor_subject1_routine1 (id125)</td>\n      <td>50</td>\n      <td>[1461, 2952, 4473, 5022, 6460]</td>\n      <td>[1, 0, 1, 2, 0, 3]</td>\n      <td>[[0.5025029458177382, 0.78151899859646, 0.4075...</td>\n    </tr>\n    <tr>\n      <th>1</th>\n      <td>indoor_subject1_routine1 (id140)</td>\n      <td>50</td>\n      <td>[772, 2056, 3521, 4835, 5283, 6893]</td>\n      <td>[2, 1, 3, 1, 2, 0, 3]</td>\n      <td>[[0.41870591057777035, 0.8157450984128195, 0.3...</td>\n    </tr>\n    <tr>\n      <th>2</th>\n      <td>indoor_subject1_routine1 (id93)</td>\n      <td>50</td>\n      <td>[1211, 2043, 2836, 3529, 4036]</td>\n      <td>[2, 4, 0, 1, 3, 4]</td>\n      <td>[[0.6809143354242022, 0.8390696507060063, 0.34...</td>\n    </tr>\n    <tr>\n      <th>3</th>\n      <td>indoor_subject1_routine1 (id52)</td>\n      <td>50</td>\n      <td>[739, 1433, 2044, 2875, 3589]</td>\n      <td>[0, 1, 2, 3, 1, 0]</td>\n      <td>[[0.5215244935774459, 0.7310931419213416, 0.50...</td>\n    </tr>\n    <tr>\n      <th>4</th>\n      <td>indoor_subject1_routine1 (id221)</td>\n      <td>50</td>\n      <td>[1506, 3033, 4477, 5348, 6805]</td>\n      <td>[2, 0, 2, 3, 0, 1]</td>\n      <td>[[0.48401058282315657, 0.6748131355527517, 0.5...</td>\n    </tr>\n    <tr>\n      <th>...</th>\n      <td>...</td>\n      <td>...</td>\n      <td>...</td>\n      <td>...</td>\n      <td>...</td>\n    </tr>\n    <tr>\n      <th>245</th>\n      <td>outdoor_subject7_routine3 (id26)</td>\n      <td>50</td>\n      <td>[]</td>\n      <td>[0]</td>\n      <td>[[0.7491045845272207, 0.5873851669280753, 0.53...</td>\n    </tr>\n    <tr>\n      <th>246</th>\n      <td>outdoor_subject7_routine3 (id48)</td>\n      <td>50</td>\n      <td>[]</td>\n      <td>[0]</td>\n      <td>[[0.07761887299841085, 0.9513191404126248, 0.3...</td>\n    </tr>\n    <tr>\n      <th>247</th>\n      <td>outdoor_subject7_routine3 (id78)</td>\n      <td>50</td>\n      <td>[529, 1778]</td>\n      <td>[1, 0, 1]</td>\n      <td>[[0.48061181058716396, 0.5648863723314714, 1.0...</td>\n    </tr>\n    <tr>\n      <th>248</th>\n      <td>outdoor_subject7_routine3 (id163)</td>\n      <td>50</td>\n      <td>[]</td>\n      <td>[0]</td>\n      <td>[[0.17304133251079593, 0.8704303563165199, 0.2...</td>\n    </tr>\n    <tr>\n      <th>249</th>\n      <td>outdoor_subject7_routine3 (id47)</td>\n      <td>50</td>\n      <td>[3533]</td>\n      <td>[0, 1]</td>\n      <td>[[0.27734466588511136, 0.5333349661996669, 0.2...</td>\n    </tr>\n  </tbody>\n</table>\n<p>250 rows × 5 columns</p>\n</div>"
     },
     "execution_count": 38,
     "metadata": {},
     "output_type": "execute_result"
    }
   ],
   "source": [
    "df_data = load_has_datasets()\n",
    "df_data"
   ],
   "metadata": {
    "collapsed": false,
    "ExecuteTime": {
     "end_time": "2024-03-14T15:11:18.787109Z",
     "start_time": "2024-03-14T15:11:00.851375Z"
    }
   },
   "id": "cf83480cee3f46e7"
  },
  {
   "cell_type": "markdown",
   "source": [
    "Let's first calculate some statistics about the TS."
   ],
   "metadata": {
    "collapsed": false
   },
   "id": "509cd42b6199753e"
  },
  {
   "cell_type": "code",
   "execution_count": 39,
   "outputs": [
    {
     "data": {
      "text/plain": "'Number of TS: 250'"
     },
     "execution_count": 39,
     "metadata": {},
     "output_type": "execute_result"
    }
   ],
   "source": [
    "f\"Number of TS: {df_data.shape[0]}\""
   ],
   "metadata": {
    "collapsed": false,
    "ExecuteTime": {
     "end_time": "2024-03-14T15:11:18.787393Z",
     "start_time": "2024-03-14T15:11:18.785590Z"
    }
   },
   "id": "7f2a0c2a8a06bc93"
  },
  {
   "cell_type": "code",
   "execution_count": 43,
   "outputs": [
    {
     "data": {
      "text/plain": "'Number of Dimensions: 9'"
     },
     "execution_count": 43,
     "metadata": {},
     "output_type": "execute_result"
    }
   ],
   "source": [
    "f\"Number of Dimensions: {df_data.time_series.iloc[0].shape[1]}\""
   ],
   "metadata": {
    "collapsed": false,
    "ExecuteTime": {
     "end_time": "2024-03-14T15:18:02.342063Z",
     "start_time": "2024-03-14T15:18:02.336514Z"
    }
   },
   "id": "abf8a3ade08f3caf"
  },
  {
   "cell_type": "code",
   "execution_count": 40,
   "outputs": [
    {
     "data": {
      "text/plain": "'TS Length (Min/Median/Max): (340 / 4985.5 / 41465)'"
     },
     "execution_count": 40,
     "metadata": {},
     "output_type": "execute_result"
    }
   ],
   "source": [
    "f\"TS Length (Min/Median/Max): ({df_data.time_series.apply(len).min()} / {df_data.time_series.apply(len).median()} / {df_data.time_series.apply(len).max()})\""
   ],
   "metadata": {
    "collapsed": false,
    "ExecuteTime": {
     "end_time": "2024-03-14T15:11:18.792954Z",
     "start_time": "2024-03-14T15:11:18.789792Z"
    }
   },
   "id": "ae2b6901432844b"
  },
  {
   "cell_type": "code",
   "execution_count": 41,
   "outputs": [
    {
     "data": {
      "text/plain": "'No. of States (Min/Median/Max): (1 / 3.0 / 12)'"
     },
     "execution_count": 41,
     "metadata": {},
     "output_type": "execute_result"
    }
   ],
   "source": [
    "f\"No. of States (Min/Median/Max): ({df_data.labels.apply(lambda x: np.unique(x).shape[0]).min()} / {df_data.labels.apply(lambda x: np.unique(x).shape[0]).median()} / {df_data.labels.apply(lambda x: np.unique(x).shape[0]).max()})\""
   ],
   "metadata": {
    "collapsed": false,
    "ExecuteTime": {
     "end_time": "2024-03-14T15:11:18.798300Z",
     "start_time": "2024-03-14T15:11:18.792517Z"
    }
   },
   "id": "3cfb21473929becb"
  },
  {
   "cell_type": "code",
   "execution_count": 42,
   "outputs": [
    {
     "data": {
      "text/plain": "(7948, 9)"
     },
     "execution_count": 42,
     "metadata": {},
     "output_type": "execute_result"
    }
   ],
   "source": [],
   "metadata": {
    "collapsed": false,
    "ExecuteTime": {
     "end_time": "2024-03-14T15:11:18.800455Z",
     "start_time": "2024-03-14T15:11:18.798371Z"
    }
   },
   "id": "1fb208ef1dfe4cbc"
  },
  {
   "cell_type": "code",
   "execution_count": 42,
   "outputs": [],
   "source": [],
   "metadata": {
    "collapsed": false,
    "ExecuteTime": {
     "end_time": "2024-03-14T15:11:18.802579Z",
     "start_time": "2024-03-14T15:11:18.800362Z"
    }
   },
   "id": "d963bcb2ebba2171"
  }
 ],
 "metadata": {
  "kernelspec": {
   "display_name": "Python 3",
   "language": "python",
   "name": "python3"
  },
  "language_info": {
   "codemirror_mode": {
    "name": "ipython",
    "version": 2
   },
   "file_extension": ".py",
   "mimetype": "text/x-python",
   "name": "python",
   "nbconvert_exporter": "python",
   "pygments_lexer": "ipython2",
   "version": "2.7.6"
  }
 },
 "nbformat": 4,
 "nbformat_minor": 5
}
