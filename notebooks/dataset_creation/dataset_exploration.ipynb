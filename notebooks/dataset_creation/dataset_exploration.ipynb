{
 "cells": [
  {
   "cell_type": "markdown",
   "source": [
    "# Data Set Exploration\n",
    "In this notebook, we explore summary statistics of data sets."
   ],
   "metadata": {
    "collapsed": false
   },
   "id": "75f9cc1e50f0d7c9"
  },
  {
   "cell_type": "code",
   "execution_count": 1,
   "outputs": [],
   "source": [
    "%load_ext autoreload\n",
    "%autoreload 2\n",
    "import matplotlib\n",
    "\n",
    "matplotlib.rcParams['pdf.fonttype'] = 42\n",
    "matplotlib.rcParams['ps.fonttype'] = 42"
   ],
   "metadata": {
    "collapsed": false,
    "ExecuteTime": {
     "end_time": "2025-04-02T10:40:28.752803Z",
     "start_time": "2025-04-02T10:40:28.734191Z"
    }
   },
   "id": "fa35f391a28127fd"
  },
  {
   "cell_type": "code",
   "execution_count": 2,
   "outputs": [],
   "source": [
    "import sys\n",
    "\n",
    "sys.path.append(\"../../\")\n",
    "\n",
    "import numpy as np\n",
    "\n",
    "from src.utils import load_tssb_datasets, load_datasets\n",
    "import seaborn as sns\n",
    "\n",
    "sns.set_theme()\n",
    "sns.set_color_codes()"
   ],
   "metadata": {
    "collapsed": false,
    "ExecuteTime": {
     "end_time": "2025-04-02T10:40:28.887657Z",
     "start_time": "2025-04-02T10:40:28.752915Z"
    }
   },
   "id": "88d6d1cae87acac2"
  },
  {
   "cell_type": "code",
   "execution_count": 3,
   "outputs": [
    {
     "data": {
      "text/plain": "                 dataset  window_size            change_points  \\\n0                  Adiac           10        [572, 1012, 1232]   \n1              ArrowHead           10                    [753]   \n2                   Beef           50                    [705]   \n3              BeetleFly           10                   [1280]   \n4            BirdChicken           20                   [1280]   \n..                   ...          ...                      ...   \n70  UWaveGestureLibraryX           10  [600, 1131, 1652, 2193]   \n71  UWaveGestureLibraryY           10  [600, 1131, 1652, 2193]   \n72  UWaveGestureLibraryZ           10  [600, 1131, 1652, 2193]   \n73          WordSynonyms           10              [202, 2227]   \n74                  Yoga           10                   [7295]   \n\n             labels                                        time_series  \n0      [0, 1, 2, 4]  [1.681146, 1.383394, 1.029389, 0.688386, 0.354...  \n1            [0, 1]  [-1.957721, -1.858082, -1.657983, -1.420794, -...  \n2            [0, 1]  [-0.380818, -0.352238, -0.295392, -0.225041, -...  \n3            [0, 1]  [1.114805, 0.774403, 0.477129, 0.115781, -0.24...  \n4            [0, 1]  [1.697714, 1.439032, 1.22287, 0.99708, 0.76479...  \n..              ...                                                ...  \n70  [0, 1, 2, 3, 4]  [-0.889766, 0.722005, 0.869297, -0.553167, -0....  \n71  [0, 1, 2, 3, 4]  [-1.523467, -0.106794, 0.190361, 0.979247, 0.3...  \n72  [0, 1, 2, 3, 4]  [-0.527058, 0.416111, -0.524027, 0.41141, 0.12...  \n73        [0, 1, 2]  [-1.183581, -0.514028, -0.480539, -0.394855, -...  \n74           [0, 1]  [-0.155803, -0.33899, -0.564977, -0.667323, -0...  \n\n[75 rows x 5 columns]",
      "text/html": "<div>\n<style scoped>\n    .dataframe tbody tr th:only-of-type {\n        vertical-align: middle;\n    }\n\n    .dataframe tbody tr th {\n        vertical-align: top;\n    }\n\n    .dataframe thead th {\n        text-align: right;\n    }\n</style>\n<table border=\"1\" class=\"dataframe\">\n  <thead>\n    <tr style=\"text-align: right;\">\n      <th></th>\n      <th>dataset</th>\n      <th>window_size</th>\n      <th>change_points</th>\n      <th>labels</th>\n      <th>time_series</th>\n    </tr>\n  </thead>\n  <tbody>\n    <tr>\n      <th>0</th>\n      <td>Adiac</td>\n      <td>10</td>\n      <td>[572, 1012, 1232]</td>\n      <td>[0, 1, 2, 4]</td>\n      <td>[1.681146, 1.383394, 1.029389, 0.688386, 0.354...</td>\n    </tr>\n    <tr>\n      <th>1</th>\n      <td>ArrowHead</td>\n      <td>10</td>\n      <td>[753]</td>\n      <td>[0, 1]</td>\n      <td>[-1.957721, -1.858082, -1.657983, -1.420794, -...</td>\n    </tr>\n    <tr>\n      <th>2</th>\n      <td>Beef</td>\n      <td>50</td>\n      <td>[705]</td>\n      <td>[0, 1]</td>\n      <td>[-0.380818, -0.352238, -0.295392, -0.225041, -...</td>\n    </tr>\n    <tr>\n      <th>3</th>\n      <td>BeetleFly</td>\n      <td>10</td>\n      <td>[1280]</td>\n      <td>[0, 1]</td>\n      <td>[1.114805, 0.774403, 0.477129, 0.115781, -0.24...</td>\n    </tr>\n    <tr>\n      <th>4</th>\n      <td>BirdChicken</td>\n      <td>20</td>\n      <td>[1280]</td>\n      <td>[0, 1]</td>\n      <td>[1.697714, 1.439032, 1.22287, 0.99708, 0.76479...</td>\n    </tr>\n    <tr>\n      <th>...</th>\n      <td>...</td>\n      <td>...</td>\n      <td>...</td>\n      <td>...</td>\n      <td>...</td>\n    </tr>\n    <tr>\n      <th>70</th>\n      <td>UWaveGestureLibraryX</td>\n      <td>10</td>\n      <td>[600, 1131, 1652, 2193]</td>\n      <td>[0, 1, 2, 3, 4]</td>\n      <td>[-0.889766, 0.722005, 0.869297, -0.553167, -0....</td>\n    </tr>\n    <tr>\n      <th>71</th>\n      <td>UWaveGestureLibraryY</td>\n      <td>10</td>\n      <td>[600, 1131, 1652, 2193]</td>\n      <td>[0, 1, 2, 3, 4]</td>\n      <td>[-1.523467, -0.106794, 0.190361, 0.979247, 0.3...</td>\n    </tr>\n    <tr>\n      <th>72</th>\n      <td>UWaveGestureLibraryZ</td>\n      <td>10</td>\n      <td>[600, 1131, 1652, 2193]</td>\n      <td>[0, 1, 2, 3, 4]</td>\n      <td>[-0.527058, 0.416111, -0.524027, 0.41141, 0.12...</td>\n    </tr>\n    <tr>\n      <th>73</th>\n      <td>WordSynonyms</td>\n      <td>10</td>\n      <td>[202, 2227]</td>\n      <td>[0, 1, 2]</td>\n      <td>[-1.183581, -0.514028, -0.480539, -0.394855, -...</td>\n    </tr>\n    <tr>\n      <th>74</th>\n      <td>Yoga</td>\n      <td>10</td>\n      <td>[7295]</td>\n      <td>[0, 1]</td>\n      <td>[-0.155803, -0.33899, -0.564977, -0.667323, -0...</td>\n    </tr>\n  </tbody>\n</table>\n<p>75 rows × 5 columns</p>\n</div>"
     },
     "execution_count": 3,
     "metadata": {},
     "output_type": "execute_result"
    }
   ],
   "source": [
    "df_data = load_tssb_datasets()\n",
    "df_data"
   ],
   "metadata": {
    "collapsed": false,
    "ExecuteTime": {
     "end_time": "2025-04-02T10:40:28.953921Z",
     "start_time": "2025-04-02T10:40:28.886160Z"
    }
   },
   "id": "cf83480cee3f46e7"
  },
  {
   "cell_type": "markdown",
   "source": [
    "Let's first calculate some statistics about the TS."
   ],
   "metadata": {
    "collapsed": false
   },
   "id": "509cd42b6199753e"
  },
  {
   "cell_type": "code",
   "execution_count": 4,
   "outputs": [
    {
     "data": {
      "text/plain": "'Number of TS: 75'"
     },
     "execution_count": 4,
     "metadata": {},
     "output_type": "execute_result"
    }
   ],
   "source": [
    "f\"Number of TS: {df_data.shape[0]}\""
   ],
   "metadata": {
    "collapsed": false,
    "ExecuteTime": {
     "end_time": "2025-04-02T10:40:28.971720Z",
     "start_time": "2025-04-02T10:40:28.952914Z"
    }
   },
   "id": "7f2a0c2a8a06bc93"
  },
  {
   "cell_type": "code",
   "execution_count": 5,
   "outputs": [
    {
     "data": {
      "text/plain": "'Number of Dimensions: (1408,)'"
     },
     "execution_count": 5,
     "metadata": {},
     "output_type": "execute_result"
    }
   ],
   "source": [
    "f\"Number of Dimensions: {df_data.time_series.iloc[0].shape}\""
   ],
   "metadata": {
    "collapsed": false,
    "ExecuteTime": {
     "end_time": "2025-04-02T10:40:29.002008Z",
     "start_time": "2025-04-02T10:40:28.970937Z"
    }
   },
   "id": "abf8a3ade08f3caf"
  },
  {
   "cell_type": "code",
   "execution_count": 6,
   "outputs": [
    {
     "data": {
      "text/plain": "'TS Length (Min/Median/Max): (240 / 3456.0 / 20700)'"
     },
     "execution_count": 6,
     "metadata": {},
     "output_type": "execute_result"
    }
   ],
   "source": [
    "f\"TS Length (Min/Median/Max): ({df_data.time_series.apply(len).min()} / {df_data.time_series.apply(len).median()} / {df_data.time_series.apply(len).max()})\""
   ],
   "metadata": {
    "collapsed": false,
    "ExecuteTime": {
     "end_time": "2025-04-02T10:40:29.017549Z",
     "start_time": "2025-04-02T10:40:28.987933Z"
    }
   },
   "id": "ae2b6901432844b"
  },
  {
   "cell_type": "code",
   "execution_count": 7,
   "outputs": [
    {
     "data": {
      "text/plain": "'No. of States (Min/Median/Max): (1 / 3.0 / 7)'"
     },
     "execution_count": 7,
     "metadata": {},
     "output_type": "execute_result"
    }
   ],
   "source": [
    "f\"No. of States (Min/Median/Max): ({df_data.labels.apply(lambda x: np.unique(x).shape[0]).min()} / {df_data.labels.apply(lambda x: np.unique(x).shape[0]).median()} / {df_data.labels.apply(lambda x: np.unique(x).shape[0]).max()})\""
   ],
   "metadata": {
    "collapsed": false,
    "ExecuteTime": {
     "end_time": "2025-04-02T10:40:29.047431Z",
     "start_time": "2025-04-02T10:40:29.005032Z"
    }
   },
   "id": "3cfb21473929becb"
  },
  {
   "cell_type": "code",
   "execution_count": 8,
   "outputs": [
    {
     "data": {
      "text/plain": "'No. of Segments (Min/Median/Max): (1 / 3.0 / 9)'"
     },
     "execution_count": 8,
     "metadata": {},
     "output_type": "execute_result"
    }
   ],
   "source": [
    "f\"No. of Segments (Min/Median/Max): ({df_data.change_points.apply(lambda x: x.shape[0] + 1).min()} / {df_data.change_points.apply(lambda x: x.shape[0] + 1).median()} / {df_data.change_points.apply(lambda x: x.shape[0] + 1).max()})\""
   ],
   "metadata": {
    "collapsed": false,
    "ExecuteTime": {
     "end_time": "2025-04-02T10:40:29.047987Z",
     "start_time": "2025-04-02T10:40:29.025131Z"
    }
   },
   "id": "80b54aee1f72f601"
  }
 ],
 "metadata": {
  "kernelspec": {
   "display_name": "Python 3",
   "language": "python",
   "name": "python3"
  },
  "language_info": {
   "codemirror_mode": {
    "name": "ipython",
    "version": 2
   },
   "file_extension": ".py",
   "mimetype": "text/x-python",
   "name": "python",
   "nbconvert_exporter": "python",
   "pygments_lexer": "ipython2",
   "version": "2.7.6"
  }
 },
 "nbformat": 4,
 "nbformat_minor": 5
}
