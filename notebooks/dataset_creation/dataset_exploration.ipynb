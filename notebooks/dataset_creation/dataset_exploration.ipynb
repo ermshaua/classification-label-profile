{
 "cells": [
  {
   "cell_type": "markdown",
   "source": [
    "# CLaP Example Visualization\n",
    "In this notebook, we visualize an example of CLaP."
   ],
   "metadata": {
    "collapsed": false
   },
   "id": "75f9cc1e50f0d7c9"
  },
  {
   "cell_type": "code",
   "execution_count": 25,
   "outputs": [],
   "source": [
    "# fot type settings for paper plots\n",
    "import matplotlib\n",
    "matplotlib.rcParams['pdf.fonttype'] = 42\n",
    "matplotlib.rcParams['ps.fonttype'] = 42"
   ],
   "metadata": {
    "collapsed": false,
    "ExecuteTime": {
     "end_time": "2024-03-15T14:16:27.630044Z",
     "start_time": "2024-03-15T14:16:27.612735Z"
    }
   },
   "id": "fa35f391a28127fd"
  },
  {
   "cell_type": "code",
   "execution_count": 26,
   "outputs": [],
   "source": [
    "import sys\n",
    "sys.path.append(\"../../\")\n",
    "\n",
    "import numpy as np\n",
    "import pandas as pd\n",
    "\n",
    "from src.utils import load_tssb_datasets, load_has_datasets, load_datasets\n",
    "import matplotlib.pyplot as plt\n",
    "import seaborn as sns\n",
    "from sklearn.metrics import f1_score\n",
    "\n",
    "from src.visualization import plot_state_detection\n",
    "from src.clap import CLaP\n",
    "\n",
    "sns.set_theme()\n",
    "sns.set_color_codes()\n",
    "\n",
    "import os"
   ],
   "metadata": {
    "collapsed": false,
    "ExecuteTime": {
     "end_time": "2024-03-15T14:16:27.636627Z",
     "start_time": "2024-03-15T14:16:27.616631Z"
    }
   },
   "id": "88d6d1cae87acac2"
  },
  {
   "cell_type": "code",
   "execution_count": 27,
   "outputs": [
    {
     "data": {
      "text/plain": "           dataset  window_size change_points     labels  \\\n0    SKAB_valve1_0           95    [573, 974]  [0, 1, 0]   \n1    SKAB_valve1_1           95    [572, 974]  [0, 1, 0]   \n2    SKAB_valve1_2           95    [566, 903]  [0, 1, 0]   \n3    SKAB_valve1_3           95    [573, 977]  [0, 1, 0]   \n4    SKAB_valve1_4           95    [573, 922]  [0, 1, 0]   \n5    SKAB_valve1_5           95    [577, 980]  [0, 1, 0]   \n6    SKAB_valve1_6           95    [576, 981]  [0, 1, 0]   \n7    SKAB_valve1_7           95    [578, 983]  [0, 1, 0]   \n8    SKAB_valve1_8           95    [572, 972]  [0, 1, 0]   \n9    SKAB_valve1_9           95    [574, 976]  [0, 1, 0]   \n10  SKAB_valve1_10           95    [573, 974]  [0, 1, 0]   \n11  SKAB_valve1_11           95    [572, 971]  [0, 1, 0]   \n12  SKAB_valve1_12           95    [570, 969]  [0, 1, 0]   \n13  SKAB_valve1_13           95    [570, 969]  [0, 1, 0]   \n14  SKAB_valve1_14           95    [569, 968]  [0, 1, 0]   \n15  SKAB_valve1_15           95    [574, 978]  [0, 1, 0]   \n16   SKAB_valve2_0           95    [562, 956]  [0, 1, 0]   \n17   SKAB_valve2_1           95    [560, 893]  [0, 1, 0]   \n18   SKAB_valve2_2           95    [565, 960]  [0, 1, 0]   \n19   SKAB_valve2_3           95    [564, 959]  [0, 1, 0]   \n20    SKAB_other_1           95         [557]     [0, 1]   \n21    SKAB_other_2           95    [104, 488]  [0, 1, 0]   \n22    SKAB_other_3           95    [568, 966]  [0, 1, 0]   \n23    SKAB_other_4           95         [796]     [0, 1]   \n24    SKAB_other_5           95    [572, 982]  [0, 1, 0]   \n25    SKAB_other_6           95    [573, 975]  [0, 1, 0]   \n26    SKAB_other_7           95    [572, 919]  [0, 1, 0]   \n27    SKAB_other_8           95    [572, 975]  [0, 1, 0]   \n28    SKAB_other_9           95    [572, 973]  [0, 1, 0]   \n29   SKAB_other_10           95   [570, 1156]  [0, 1, 0]   \n30   SKAB_other_11           95   [570, 1021]  [0, 1, 0]   \n31   SKAB_other_12           95    [568, 877]  [0, 1, 0]   \n32   SKAB_other_13           95    [495, 760]  [0, 1, 0]   \n33   SKAB_other_14           95    [571, 873]  [0, 1, 0]   \n\n                                          time_series  \n0   [[0.5343215742988486, 0.4100450377995824, 0.73...  \n1   [[0.5896695388694259, 0.12674268026910065, 0.4...  \n2   [[0.6172118551042802, 0.5385689097854824, 0.50...  \n3   [[0.6872623989512782, 0.5572555478502078, 0.76...  \n4   [[0.6662246810845417, 0.481474300977984, 0.368...  \n5   [[0.4686474501108648, 0.4265755399028284, 0.45...  \n6   [[0.577291745910993, 0.4163964732650742, 0.335...  \n7   [[0.7282672840346811, 0.4946347819422089, 0.65...  \n8   [[0.41991305089080305, 0.27879964358452175, 0....  \n9   [[0.46307399064286936, 0.5789224165545515, 0.3...  \n10  [[0.45342893653272764, 0.290961274489414, 0.42...  \n11  [[0.7552351670267567, 0.38115576190583567, 0.0...  \n12  [[0.2236947791164662, 0.11073836024455251, 0.5...  \n13  [[0.7163019022294947, 0.5213974084543866, 0.36...  \n14  [[0.39727878897098534, 0.4980237154150192, 0.5...  \n15  [[0.5501265160108197, 1.0, 0.16100128004551273...  \n16  [[0.22567543704750095, 0.4729432782492189, 0.7...  \n17  [[0.5193864913784896, 0.6756537010537271, 0.24...  \n18  [[0.16765732812370046, 0.4476942603299957, 0.7...  \n19  [[0.4825928964951361, 0.5123986332908064, 0.48...  \n20  [[0.7079587596839028, 0.627078545356226, 0.396...  \n21  [[0.7754794760846677, 0.5887798702326328, 0.84...  \n22  [[0.2524208024675772, 0.5955682735343761, 0.91...  \n23  [[0.6707241226121726, 0.06373833031096814, 0.7...  \n24  [[0.047538959459712295, 0.03146890574568334, 0...  \n25  [[0.05503641537542798, 0.06848916822574072, 0....  \n26  [[0.039783734281990786, 0.04240037494445831, 0...  \n27  [[0.032296893690332, 0.022024477615952866, 0.4...  \n28  [[0.038640886739074176, 0.03499099077479333, 0...  \n29  [[0.5464219288349539, 0.23657814980516578, 0.6...  \n30  [[0.4623331059350942, 0.3192483844657759, 0.82...  \n31  [[0.3196801192387066, 0.35618563972351674, 0.6...  \n32  [[0.42014914461178504, 0.26767706208102665, 0....  \n33  [[0.9616819636148644, 0.9371817851919461, 0.92...  ",
      "text/html": "<div>\n<style scoped>\n    .dataframe tbody tr th:only-of-type {\n        vertical-align: middle;\n    }\n\n    .dataframe tbody tr th {\n        vertical-align: top;\n    }\n\n    .dataframe thead th {\n        text-align: right;\n    }\n</style>\n<table border=\"1\" class=\"dataframe\">\n  <thead>\n    <tr style=\"text-align: right;\">\n      <th></th>\n      <th>dataset</th>\n      <th>window_size</th>\n      <th>change_points</th>\n      <th>labels</th>\n      <th>time_series</th>\n    </tr>\n  </thead>\n  <tbody>\n    <tr>\n      <th>0</th>\n      <td>SKAB_valve1_0</td>\n      <td>95</td>\n      <td>[573, 974]</td>\n      <td>[0, 1, 0]</td>\n      <td>[[0.5343215742988486, 0.4100450377995824, 0.73...</td>\n    </tr>\n    <tr>\n      <th>1</th>\n      <td>SKAB_valve1_1</td>\n      <td>95</td>\n      <td>[572, 974]</td>\n      <td>[0, 1, 0]</td>\n      <td>[[0.5896695388694259, 0.12674268026910065, 0.4...</td>\n    </tr>\n    <tr>\n      <th>2</th>\n      <td>SKAB_valve1_2</td>\n      <td>95</td>\n      <td>[566, 903]</td>\n      <td>[0, 1, 0]</td>\n      <td>[[0.6172118551042802, 0.5385689097854824, 0.50...</td>\n    </tr>\n    <tr>\n      <th>3</th>\n      <td>SKAB_valve1_3</td>\n      <td>95</td>\n      <td>[573, 977]</td>\n      <td>[0, 1, 0]</td>\n      <td>[[0.6872623989512782, 0.5572555478502078, 0.76...</td>\n    </tr>\n    <tr>\n      <th>4</th>\n      <td>SKAB_valve1_4</td>\n      <td>95</td>\n      <td>[573, 922]</td>\n      <td>[0, 1, 0]</td>\n      <td>[[0.6662246810845417, 0.481474300977984, 0.368...</td>\n    </tr>\n    <tr>\n      <th>5</th>\n      <td>SKAB_valve1_5</td>\n      <td>95</td>\n      <td>[577, 980]</td>\n      <td>[0, 1, 0]</td>\n      <td>[[0.4686474501108648, 0.4265755399028284, 0.45...</td>\n    </tr>\n    <tr>\n      <th>6</th>\n      <td>SKAB_valve1_6</td>\n      <td>95</td>\n      <td>[576, 981]</td>\n      <td>[0, 1, 0]</td>\n      <td>[[0.577291745910993, 0.4163964732650742, 0.335...</td>\n    </tr>\n    <tr>\n      <th>7</th>\n      <td>SKAB_valve1_7</td>\n      <td>95</td>\n      <td>[578, 983]</td>\n      <td>[0, 1, 0]</td>\n      <td>[[0.7282672840346811, 0.4946347819422089, 0.65...</td>\n    </tr>\n    <tr>\n      <th>8</th>\n      <td>SKAB_valve1_8</td>\n      <td>95</td>\n      <td>[572, 972]</td>\n      <td>[0, 1, 0]</td>\n      <td>[[0.41991305089080305, 0.27879964358452175, 0....</td>\n    </tr>\n    <tr>\n      <th>9</th>\n      <td>SKAB_valve1_9</td>\n      <td>95</td>\n      <td>[574, 976]</td>\n      <td>[0, 1, 0]</td>\n      <td>[[0.46307399064286936, 0.5789224165545515, 0.3...</td>\n    </tr>\n    <tr>\n      <th>10</th>\n      <td>SKAB_valve1_10</td>\n      <td>95</td>\n      <td>[573, 974]</td>\n      <td>[0, 1, 0]</td>\n      <td>[[0.45342893653272764, 0.290961274489414, 0.42...</td>\n    </tr>\n    <tr>\n      <th>11</th>\n      <td>SKAB_valve1_11</td>\n      <td>95</td>\n      <td>[572, 971]</td>\n      <td>[0, 1, 0]</td>\n      <td>[[0.7552351670267567, 0.38115576190583567, 0.0...</td>\n    </tr>\n    <tr>\n      <th>12</th>\n      <td>SKAB_valve1_12</td>\n      <td>95</td>\n      <td>[570, 969]</td>\n      <td>[0, 1, 0]</td>\n      <td>[[0.2236947791164662, 0.11073836024455251, 0.5...</td>\n    </tr>\n    <tr>\n      <th>13</th>\n      <td>SKAB_valve1_13</td>\n      <td>95</td>\n      <td>[570, 969]</td>\n      <td>[0, 1, 0]</td>\n      <td>[[0.7163019022294947, 0.5213974084543866, 0.36...</td>\n    </tr>\n    <tr>\n      <th>14</th>\n      <td>SKAB_valve1_14</td>\n      <td>95</td>\n      <td>[569, 968]</td>\n      <td>[0, 1, 0]</td>\n      <td>[[0.39727878897098534, 0.4980237154150192, 0.5...</td>\n    </tr>\n    <tr>\n      <th>15</th>\n      <td>SKAB_valve1_15</td>\n      <td>95</td>\n      <td>[574, 978]</td>\n      <td>[0, 1, 0]</td>\n      <td>[[0.5501265160108197, 1.0, 0.16100128004551273...</td>\n    </tr>\n    <tr>\n      <th>16</th>\n      <td>SKAB_valve2_0</td>\n      <td>95</td>\n      <td>[562, 956]</td>\n      <td>[0, 1, 0]</td>\n      <td>[[0.22567543704750095, 0.4729432782492189, 0.7...</td>\n    </tr>\n    <tr>\n      <th>17</th>\n      <td>SKAB_valve2_1</td>\n      <td>95</td>\n      <td>[560, 893]</td>\n      <td>[0, 1, 0]</td>\n      <td>[[0.5193864913784896, 0.6756537010537271, 0.24...</td>\n    </tr>\n    <tr>\n      <th>18</th>\n      <td>SKAB_valve2_2</td>\n      <td>95</td>\n      <td>[565, 960]</td>\n      <td>[0, 1, 0]</td>\n      <td>[[0.16765732812370046, 0.4476942603299957, 0.7...</td>\n    </tr>\n    <tr>\n      <th>19</th>\n      <td>SKAB_valve2_3</td>\n      <td>95</td>\n      <td>[564, 959]</td>\n      <td>[0, 1, 0]</td>\n      <td>[[0.4825928964951361, 0.5123986332908064, 0.48...</td>\n    </tr>\n    <tr>\n      <th>20</th>\n      <td>SKAB_other_1</td>\n      <td>95</td>\n      <td>[557]</td>\n      <td>[0, 1]</td>\n      <td>[[0.7079587596839028, 0.627078545356226, 0.396...</td>\n    </tr>\n    <tr>\n      <th>21</th>\n      <td>SKAB_other_2</td>\n      <td>95</td>\n      <td>[104, 488]</td>\n      <td>[0, 1, 0]</td>\n      <td>[[0.7754794760846677, 0.5887798702326328, 0.84...</td>\n    </tr>\n    <tr>\n      <th>22</th>\n      <td>SKAB_other_3</td>\n      <td>95</td>\n      <td>[568, 966]</td>\n      <td>[0, 1, 0]</td>\n      <td>[[0.2524208024675772, 0.5955682735343761, 0.91...</td>\n    </tr>\n    <tr>\n      <th>23</th>\n      <td>SKAB_other_4</td>\n      <td>95</td>\n      <td>[796]</td>\n      <td>[0, 1]</td>\n      <td>[[0.6707241226121726, 0.06373833031096814, 0.7...</td>\n    </tr>\n    <tr>\n      <th>24</th>\n      <td>SKAB_other_5</td>\n      <td>95</td>\n      <td>[572, 982]</td>\n      <td>[0, 1, 0]</td>\n      <td>[[0.047538959459712295, 0.03146890574568334, 0...</td>\n    </tr>\n    <tr>\n      <th>25</th>\n      <td>SKAB_other_6</td>\n      <td>95</td>\n      <td>[573, 975]</td>\n      <td>[0, 1, 0]</td>\n      <td>[[0.05503641537542798, 0.06848916822574072, 0....</td>\n    </tr>\n    <tr>\n      <th>26</th>\n      <td>SKAB_other_7</td>\n      <td>95</td>\n      <td>[572, 919]</td>\n      <td>[0, 1, 0]</td>\n      <td>[[0.039783734281990786, 0.04240037494445831, 0...</td>\n    </tr>\n    <tr>\n      <th>27</th>\n      <td>SKAB_other_8</td>\n      <td>95</td>\n      <td>[572, 975]</td>\n      <td>[0, 1, 0]</td>\n      <td>[[0.032296893690332, 0.022024477615952866, 0.4...</td>\n    </tr>\n    <tr>\n      <th>28</th>\n      <td>SKAB_other_9</td>\n      <td>95</td>\n      <td>[572, 973]</td>\n      <td>[0, 1, 0]</td>\n      <td>[[0.038640886739074176, 0.03499099077479333, 0...</td>\n    </tr>\n    <tr>\n      <th>29</th>\n      <td>SKAB_other_10</td>\n      <td>95</td>\n      <td>[570, 1156]</td>\n      <td>[0, 1, 0]</td>\n      <td>[[0.5464219288349539, 0.23657814980516578, 0.6...</td>\n    </tr>\n    <tr>\n      <th>30</th>\n      <td>SKAB_other_11</td>\n      <td>95</td>\n      <td>[570, 1021]</td>\n      <td>[0, 1, 0]</td>\n      <td>[[0.4623331059350942, 0.3192483844657759, 0.82...</td>\n    </tr>\n    <tr>\n      <th>31</th>\n      <td>SKAB_other_12</td>\n      <td>95</td>\n      <td>[568, 877]</td>\n      <td>[0, 1, 0]</td>\n      <td>[[0.3196801192387066, 0.35618563972351674, 0.6...</td>\n    </tr>\n    <tr>\n      <th>32</th>\n      <td>SKAB_other_13</td>\n      <td>95</td>\n      <td>[495, 760]</td>\n      <td>[0, 1, 0]</td>\n      <td>[[0.42014914461178504, 0.26767706208102665, 0....</td>\n    </tr>\n    <tr>\n      <th>33</th>\n      <td>SKAB_other_14</td>\n      <td>95</td>\n      <td>[571, 873]</td>\n      <td>[0, 1, 0]</td>\n      <td>[[0.9616819636148644, 0.9371817851919461, 0.92...</td>\n    </tr>\n  </tbody>\n</table>\n</div>"
     },
     "execution_count": 27,
     "metadata": {},
     "output_type": "execute_result"
    }
   ],
   "source": [
    "df_data = load_datasets(\"SKAB\")\n",
    "df_data"
   ],
   "metadata": {
    "collapsed": false,
    "ExecuteTime": {
     "end_time": "2024-03-15T14:16:28.007168Z",
     "start_time": "2024-03-15T14:16:27.619244Z"
    }
   },
   "id": "cf83480cee3f46e7"
  },
  {
   "cell_type": "markdown",
   "source": [
    "Let's first calculate some statistics about the TS."
   ],
   "metadata": {
    "collapsed": false
   },
   "id": "509cd42b6199753e"
  },
  {
   "cell_type": "code",
   "execution_count": 28,
   "outputs": [
    {
     "data": {
      "text/plain": "'Number of TS: 34'"
     },
     "execution_count": 28,
     "metadata": {},
     "output_type": "execute_result"
    }
   ],
   "source": [
    "f\"Number of TS: {df_data.shape[0]}\""
   ],
   "metadata": {
    "collapsed": false,
    "ExecuteTime": {
     "end_time": "2024-03-15T14:16:28.007616Z",
     "start_time": "2024-03-15T14:16:28.005012Z"
    }
   },
   "id": "7f2a0c2a8a06bc93"
  },
  {
   "cell_type": "code",
   "execution_count": 29,
   "outputs": [
    {
     "data": {
      "text/plain": "'Number of Dimensions: (1147, 8)'"
     },
     "execution_count": 29,
     "metadata": {},
     "output_type": "execute_result"
    }
   ],
   "source": [
    "f\"Number of Dimensions: {df_data.time_series.iloc[0].shape}\""
   ],
   "metadata": {
    "collapsed": false,
    "ExecuteTime": {
     "end_time": "2024-03-15T14:16:28.011007Z",
     "start_time": "2024-03-15T14:16:28.008758Z"
    }
   },
   "id": "abf8a3ade08f3caf"
  },
  {
   "cell_type": "code",
   "execution_count": 30,
   "outputs": [
    {
     "data": {
      "text/plain": "'TS Length (Min/Median/Max): (745 / 1140.5 / 1327)'"
     },
     "execution_count": 30,
     "metadata": {},
     "output_type": "execute_result"
    }
   ],
   "source": [
    "f\"TS Length (Min/Median/Max): ({df_data.time_series.apply(len).min()} / {df_data.time_series.apply(len).median()} / {df_data.time_series.apply(len).max()})\""
   ],
   "metadata": {
    "collapsed": false,
    "ExecuteTime": {
     "end_time": "2024-03-15T14:16:28.014552Z",
     "start_time": "2024-03-15T14:16:28.012246Z"
    }
   },
   "id": "ae2b6901432844b"
  },
  {
   "cell_type": "code",
   "execution_count": 31,
   "outputs": [
    {
     "data": {
      "text/plain": "'No. of States (Min/Median/Max): (2 / 2.0 / 2)'"
     },
     "execution_count": 31,
     "metadata": {},
     "output_type": "execute_result"
    }
   ],
   "source": [
    "f\"No. of States (Min/Median/Max): ({df_data.labels.apply(lambda x: np.unique(x).shape[0]).min()} / {df_data.labels.apply(lambda x: np.unique(x).shape[0]).median()} / {df_data.labels.apply(lambda x: np.unique(x).shape[0]).max()})\""
   ],
   "metadata": {
    "collapsed": false,
    "ExecuteTime": {
     "end_time": "2024-03-15T14:16:28.020014Z",
     "start_time": "2024-03-15T14:16:28.015483Z"
    }
   },
   "id": "3cfb21473929becb"
  },
  {
   "cell_type": "code",
   "execution_count": 32,
   "outputs": [
    {
     "data": {
      "text/plain": "'No. of Segments (Min/Median/Max): (2 / 3.0 / 3)'"
     },
     "execution_count": 32,
     "metadata": {},
     "output_type": "execute_result"
    }
   ],
   "source": [
    "f\"No. of Segments (Min/Median/Max): ({df_data.change_points.apply(lambda x: x.shape[0] + 1).min()} / {df_data.change_points.apply(lambda x: x.shape[0] + 1).median()} / {df_data.change_points.apply(lambda x: x.shape[0] + 1).max()})\""
   ],
   "metadata": {
    "collapsed": false,
    "ExecuteTime": {
     "end_time": "2024-03-15T14:16:28.022827Z",
     "start_time": "2024-03-15T14:16:28.019846Z"
    }
   },
   "id": "80b54aee1f72f601"
  }
 ],
 "metadata": {
  "kernelspec": {
   "display_name": "Python 3",
   "language": "python",
   "name": "python3"
  },
  "language_info": {
   "codemirror_mode": {
    "name": "ipython",
    "version": 2
   },
   "file_extension": ".py",
   "mimetype": "text/x-python",
   "name": "python",
   "nbconvert_exporter": "python",
   "pygments_lexer": "ipython2",
   "version": "2.7.6"
  }
 },
 "nbformat": 4,
 "nbformat_minor": 5
}
