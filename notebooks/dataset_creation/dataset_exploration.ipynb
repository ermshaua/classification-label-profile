{
 "cells": [
  {
   "cell_type": "markdown",
   "source": [
    "# Data Set Exploration\n",
    "In this notebook, we explore summary statistics of data sets."
   ],
   "metadata": {
    "collapsed": false
   },
   "id": "75f9cc1e50f0d7c9"
  },
  {
   "cell_type": "code",
   "execution_count": 9,
   "outputs": [
    {
     "name": "stdout",
     "output_type": "stream",
     "text": [
      "The autoreload extension is already loaded. To reload it, use:\n",
      "  %reload_ext autoreload\n"
     ]
    }
   ],
   "source": [
    "%load_ext autoreload\n",
    "%autoreload 2\n",
    "import matplotlib\n",
    "\n",
    "matplotlib.rcParams['pdf.fonttype'] = 42\n",
    "matplotlib.rcParams['ps.fonttype'] = 42"
   ],
   "metadata": {
    "collapsed": false,
    "ExecuteTime": {
     "end_time": "2025-07-17T12:11:53.353711Z",
     "start_time": "2025-07-17T12:11:52.818907Z"
    }
   },
   "id": "fa35f391a28127fd"
  },
  {
   "cell_type": "code",
   "execution_count": 10,
   "outputs": [],
   "source": [
    "import sys\n",
    "\n",
    "sys.path.append(\"../../\")\n",
    "\n",
    "import numpy as np\n",
    "import pandas as pd\n",
    "\n",
    "from src.utils import load_tssb_datasets, load_datasets, load_has_datasets\n",
    "import seaborn as sns\n",
    "\n",
    "sns.set_theme()\n",
    "sns.set_color_codes()"
   ],
   "metadata": {
    "collapsed": false,
    "ExecuteTime": {
     "end_time": "2025-07-17T12:11:53.359596Z",
     "start_time": "2025-07-17T12:11:53.353433Z"
    }
   },
   "id": "88d6d1cae87acac2"
  },
  {
   "cell_type": "code",
   "execution_count": 11,
   "outputs": [
    {
     "data": {
      "text/plain": "                    dataset  window_size  \\\n0                     Adiac           10   \n1                 ArrowHead           10   \n2                      Beef           50   \n3                 BeetleFly           10   \n4               BirdChicken           20   \n..                      ...          ...   \n9   MIT-BIH_MLII_Subject222          360   \n10  MIT-BIH_MLII_Subject223          360   \n11  MIT-BIH_MLII_Subject228          360   \n12  MIT-BIH_MLII_Subject231          360   \n13  MIT-BIH_MLII_Subject234          360   \n\n                                        change_points  \\\n0                                   [572, 1012, 1232]   \n1                                               [753]   \n2                                               [705]   \n3                                              [1280]   \n4                                              [1280]   \n..                                                ...   \n9   [195781, 200671, 206245, 210412, 218349, 22337...   \n10                      [43517, 63343, 99043, 113076]   \n11  [6192, 12198, 33580, 65258, 85047, 98572, 1301...   \n12  [35142, 117397, 203001, 290985, 348915, 363485...   \n13                                   [304425, 313772]   \n\n                                     labels  \\\n0                              [0, 1, 2, 4]   \n1                                    [0, 1]   \n2                                    [0, 1]   \n3                                    [0, 1]   \n4                                    [0, 1]   \n..                                      ...   \n9            [3, 1, 3, 4, 3, 4, 3, 1, 4, 3]   \n10                          [3, 4, 3, 4, 3]   \n11  [3, 4, 3, 4, 3, 4, 3, 4, 3, 4, 3, 4, 3]   \n12              [4, 0, 4, 0, 4, 0, 4, 0, 4]   \n13                                [2, 1, 2]   \n\n                                          time_series  \n0   [1.681146, 1.383394, 1.029389, 0.688386, 0.354...  \n1   [-1.957721, -1.858082, -1.657983, -1.420794, -...  \n2   [-0.380818, -0.352238, -0.295392, -0.225041, -...  \n3   [1.114805, 0.774403, 0.477129, 0.115781, -0.24...  \n4   [1.697714, 1.439032, 1.22287, 0.99708, 0.76479...  \n..                                                ...  \n9   [0.0032119677807876134, 0.0020895463785035743,...  \n10  [-0.049031850550078956, -0.05076120045704893, ...  \n11  [-0.020731579066852395, -0.019700706017852697,...  \n12  [0.005321496979707904, 0.0041901525426282435, ...  \n13  [-0.03219871742084271, -0.032082564012646114, ...  \n\n[405 rows x 5 columns]",
      "text/html": "<div>\n<style scoped>\n    .dataframe tbody tr th:only-of-type {\n        vertical-align: middle;\n    }\n\n    .dataframe tbody tr th {\n        vertical-align: top;\n    }\n\n    .dataframe thead th {\n        text-align: right;\n    }\n</style>\n<table border=\"1\" class=\"dataframe\">\n  <thead>\n    <tr style=\"text-align: right;\">\n      <th></th>\n      <th>dataset</th>\n      <th>window_size</th>\n      <th>change_points</th>\n      <th>labels</th>\n      <th>time_series</th>\n    </tr>\n  </thead>\n  <tbody>\n    <tr>\n      <th>0</th>\n      <td>Adiac</td>\n      <td>10</td>\n      <td>[572, 1012, 1232]</td>\n      <td>[0, 1, 2, 4]</td>\n      <td>[1.681146, 1.383394, 1.029389, 0.688386, 0.354...</td>\n    </tr>\n    <tr>\n      <th>1</th>\n      <td>ArrowHead</td>\n      <td>10</td>\n      <td>[753]</td>\n      <td>[0, 1]</td>\n      <td>[-1.957721, -1.858082, -1.657983, -1.420794, -...</td>\n    </tr>\n    <tr>\n      <th>2</th>\n      <td>Beef</td>\n      <td>50</td>\n      <td>[705]</td>\n      <td>[0, 1]</td>\n      <td>[-0.380818, -0.352238, -0.295392, -0.225041, -...</td>\n    </tr>\n    <tr>\n      <th>3</th>\n      <td>BeetleFly</td>\n      <td>10</td>\n      <td>[1280]</td>\n      <td>[0, 1]</td>\n      <td>[1.114805, 0.774403, 0.477129, 0.115781, -0.24...</td>\n    </tr>\n    <tr>\n      <th>4</th>\n      <td>BirdChicken</td>\n      <td>20</td>\n      <td>[1280]</td>\n      <td>[0, 1]</td>\n      <td>[1.697714, 1.439032, 1.22287, 0.99708, 0.76479...</td>\n    </tr>\n    <tr>\n      <th>...</th>\n      <td>...</td>\n      <td>...</td>\n      <td>...</td>\n      <td>...</td>\n      <td>...</td>\n    </tr>\n    <tr>\n      <th>9</th>\n      <td>MIT-BIH_MLII_Subject222</td>\n      <td>360</td>\n      <td>[195781, 200671, 206245, 210412, 218349, 22337...</td>\n      <td>[3, 1, 3, 4, 3, 4, 3, 1, 4, 3]</td>\n      <td>[0.0032119677807876134, 0.0020895463785035743,...</td>\n    </tr>\n    <tr>\n      <th>10</th>\n      <td>MIT-BIH_MLII_Subject223</td>\n      <td>360</td>\n      <td>[43517, 63343, 99043, 113076]</td>\n      <td>[3, 4, 3, 4, 3]</td>\n      <td>[-0.049031850550078956, -0.05076120045704893, ...</td>\n    </tr>\n    <tr>\n      <th>11</th>\n      <td>MIT-BIH_MLII_Subject228</td>\n      <td>360</td>\n      <td>[6192, 12198, 33580, 65258, 85047, 98572, 1301...</td>\n      <td>[3, 4, 3, 4, 3, 4, 3, 4, 3, 4, 3, 4, 3]</td>\n      <td>[-0.020731579066852395, -0.019700706017852697,...</td>\n    </tr>\n    <tr>\n      <th>12</th>\n      <td>MIT-BIH_MLII_Subject231</td>\n      <td>360</td>\n      <td>[35142, 117397, 203001, 290985, 348915, 363485...</td>\n      <td>[4, 0, 4, 0, 4, 0, 4, 0, 4]</td>\n      <td>[0.005321496979707904, 0.0041901525426282435, ...</td>\n    </tr>\n    <tr>\n      <th>13</th>\n      <td>MIT-BIH_MLII_Subject234</td>\n      <td>360</td>\n      <td>[304425, 313772]</td>\n      <td>[2, 1, 2]</td>\n      <td>[-0.03219871742084271, -0.032082564012646114, ...</td>\n    </tr>\n  </tbody>\n</table>\n<p>405 rows × 5 columns</p>\n</div>"
     },
     "execution_count": 11,
     "metadata": {},
     "output_type": "execute_result"
    }
   ],
   "source": [
    "df_data = pd.concat([load_tssb_datasets(), load_datasets(\"UTSA\"), load_has_datasets(), load_datasets(\"SKAB\"), load_datasets(\"MIT-BIH\")])\n",
    "df_data"
   ],
   "metadata": {
    "collapsed": false,
    "ExecuteTime": {
     "end_time": "2025-07-17T12:12:11.483974Z",
     "start_time": "2025-07-17T12:11:53.359968Z"
    }
   },
   "id": "cf83480cee3f46e7"
  },
  {
   "cell_type": "markdown",
   "source": [
    "Let's first calculate some statistics about the TS."
   ],
   "metadata": {
    "collapsed": false
   },
   "id": "509cd42b6199753e"
  },
  {
   "cell_type": "code",
   "execution_count": 12,
   "outputs": [
    {
     "data": {
      "text/plain": "'Number of TS: 405'"
     },
     "execution_count": 12,
     "metadata": {},
     "output_type": "execute_result"
    }
   ],
   "source": [
    "f\"Number of TS: {df_data.shape[0]}\""
   ],
   "metadata": {
    "collapsed": false,
    "ExecuteTime": {
     "end_time": "2025-07-17T12:12:11.499188Z",
     "start_time": "2025-07-17T12:12:11.484145Z"
    }
   },
   "id": "7f2a0c2a8a06bc93"
  },
  {
   "cell_type": "code",
   "execution_count": 13,
   "outputs": [
    {
     "data": {
      "text/plain": "'Number of Dimensions: (1408,)'"
     },
     "execution_count": 13,
     "metadata": {},
     "output_type": "execute_result"
    }
   ],
   "source": [
    "f\"Number of Dimensions: {df_data.time_series.iloc[0].shape}\""
   ],
   "metadata": {
    "collapsed": false,
    "ExecuteTime": {
     "end_time": "2025-07-17T12:12:11.522377Z",
     "start_time": "2025-07-17T12:12:11.497260Z"
    }
   },
   "id": "abf8a3ade08f3caf"
  },
  {
   "cell_type": "code",
   "execution_count": 14,
   "outputs": [
    {
     "data": {
      "text/plain": "'TS Length (Min/Median/Max): (240 / 4838.0 / 650000)'"
     },
     "execution_count": 14,
     "metadata": {},
     "output_type": "execute_result"
    }
   ],
   "source": [
    "f\"TS Length (Min/Median/Max): ({df_data.time_series.apply(len).min()} / {df_data.time_series.apply(len).median()} / {df_data.time_series.apply(len).max()})\""
   ],
   "metadata": {
    "collapsed": false,
    "ExecuteTime": {
     "end_time": "2025-07-17T12:12:11.533854Z",
     "start_time": "2025-07-17T12:12:11.508593Z"
    }
   },
   "id": "ae2b6901432844b"
  },
  {
   "cell_type": "code",
   "execution_count": 15,
   "outputs": [
    {
     "data": {
      "text/plain": "'No. of States (Min/Median/Max): (1 / 3.0 / 12)'"
     },
     "execution_count": 15,
     "metadata": {},
     "output_type": "execute_result"
    }
   ],
   "source": [
    "f\"No. of States (Min/Median/Max): ({df_data.labels.apply(lambda x: np.unique(x).shape[0]).min()} / {df_data.labels.apply(lambda x: np.unique(x).shape[0]).median()} / {df_data.labels.apply(lambda x: np.unique(x).shape[0]).max()})\""
   ],
   "metadata": {
    "collapsed": false,
    "ExecuteTime": {
     "end_time": "2025-07-17T12:12:11.557846Z",
     "start_time": "2025-07-17T12:12:11.520207Z"
    }
   },
   "id": "3cfb21473929becb"
  },
  {
   "cell_type": "code",
   "execution_count": 16,
   "outputs": [
    {
     "data": {
      "text/plain": "'No. of Segments (Min/Median/Max): (1 / 3.0 / 16)'"
     },
     "execution_count": 16,
     "metadata": {},
     "output_type": "execute_result"
    }
   ],
   "source": [
    "f\"No. of Segments (Min/Median/Max): ({df_data.change_points.apply(lambda x: x.shape[0] + 1).min()} / {df_data.change_points.apply(lambda x: x.shape[0] + 1).median()} / {df_data.change_points.apply(lambda x: x.shape[0] + 1).max()})\""
   ],
   "metadata": {
    "collapsed": false,
    "ExecuteTime": {
     "end_time": "2025-07-17T12:12:11.615053Z",
     "start_time": "2025-07-17T12:12:11.535101Z"
    }
   },
   "id": "80b54aee1f72f601"
  }
 ],
 "metadata": {
  "kernelspec": {
   "display_name": "Python 3",
   "language": "python",
   "name": "python3"
  },
  "language_info": {
   "codemirror_mode": {
    "name": "ipython",
    "version": 2
   },
   "file_extension": ".py",
   "mimetype": "text/x-python",
   "name": "python",
   "nbconvert_exporter": "python",
   "pygments_lexer": "ipython2",
   "version": "2.7.6"
  }
 },
 "nbformat": 4,
 "nbformat_minor": 5
}
