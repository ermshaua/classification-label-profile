{
 "cells": [
  {
   "cell_type": "markdown",
   "id": "34b4fad7",
   "metadata": {},
   "source": [
    "# MIT-BIH-Arr Dataset Creation\n",
    "In this notebook, we create TS from the MIT-BIH data archive. Annotation codes are available at: https://www.physionet.org/physiotools/wpg/wpg_36.htm"
   ]
  },
  {
   "cell_type": "code",
   "execution_count": 1,
   "id": "6969b67d",
   "metadata": {
    "ExecuteTime": {
     "end_time": "2025-07-15T12:34:02.740701Z",
     "start_time": "2025-07-15T12:34:02.727820Z"
    }
   },
   "outputs": [],
   "source": [
    "%load_ext autoreload\n",
    "%autoreload 2\n",
    "import matplotlib\n",
    "\n",
    "matplotlib.rcParams['pdf.fonttype'] = 42\n",
    "matplotlib.rcParams['ps.fonttype'] = 42"
   ]
  },
  {
   "cell_type": "code",
   "execution_count": 2,
   "id": "448baf44",
   "metadata": {
    "ExecuteTime": {
     "end_time": "2025-07-15T12:34:02.894273Z",
     "start_time": "2025-07-15T12:34:02.741463Z"
    }
   },
   "outputs": [],
   "source": [
    "import numpy as np\n",
    "import daproli as dp\n",
    "\n",
    "import pandas as pd\n",
    "\n",
    "pd.set_option('display.max_rows', None)\n",
    "\n",
    "import seaborn as sns\n",
    "\n",
    "sns.set_theme()\n",
    "sns.set_color_codes()\n",
    "\n",
    "import sys\n",
    "import wfdb\n",
    "import os\n",
    "\n",
    "sys.path.append(\"../../\")\n",
    "\n",
    "from tqdm import tqdm\n",
    "from src.visualization import plot_time_series\n",
    "from scipy.signal import butter, filtfilt"
   ]
  },
  {
   "cell_type": "markdown",
   "id": "8dc4fd9d",
   "metadata": {},
   "source": [
    "First, we need to download the PhysioNet record and annotation from https://physionet.org/content/mitdb/1.0.0/."
   ]
  },
  {
   "cell_type": "code",
   "execution_count": 3,
   "id": "9d444459",
   "metadata": {
    "ExecuteTime": {
     "end_time": "2025-07-15T12:34:02.906673Z",
     "start_time": "2025-07-15T12:34:02.894752Z"
    }
   },
   "outputs": [],
   "source": [
    "subject = 207"
   ]
  },
  {
   "cell_type": "code",
   "execution_count": 4,
   "id": "dec815c3",
   "metadata": {
    "ExecuteTime": {
     "end_time": "2025-07-15T12:34:08.219359Z",
     "start_time": "2025-07-15T12:34:02.907234Z"
    }
   },
   "outputs": [],
   "source": [
    "rec = wfdb.rdrecord(f\"{subject}\", pn_dir='mitdb')"
   ]
  },
  {
   "cell_type": "code",
   "execution_count": 5,
   "id": "840b0323",
   "metadata": {
    "ExecuteTime": {
     "end_time": "2025-07-15T12:34:08.950025Z",
     "start_time": "2025-07-15T12:34:08.219611Z"
    }
   },
   "outputs": [],
   "source": [
    "ann = wfdb.rdann(f\"{subject}\", \"atr\", pn_dir='mitdb')"
   ]
  },
  {
   "cell_type": "code",
   "execution_count": 10,
   "outputs": [],
   "source": [
    "name = f\"MIT-BIH_{rec.sig_name[0]}_{rec.sig_name[1]}_Subject{subject}\"\n",
    "ts = rec.p_signal[:, 0]"
   ],
   "metadata": {
    "collapsed": false,
    "ExecuteTime": {
     "end_time": "2025-07-15T12:35:23.617633Z",
     "start_time": "2025-07-15T12:35:23.144843Z"
    }
   },
   "id": "14fa2f35f0f34166"
  },
  {
   "cell_type": "code",
   "execution_count": 11,
   "outputs": [],
   "source": [
    "def create_labeled_segments(ts, ann, min_label_ratio=0.5, fs=360.0):\n",
    "    unique_symbols = np.unique(ann.symbol)\n",
    "    symbol_to_int = {symbol: idx for idx, symbol in enumerate(unique_symbols)}\n",
    "\n",
    "    seg_symbols = ''.join(ann.symbol).split(\"+\")[1:]\n",
    "\n",
    "    segments = []\n",
    "    labels = []\n",
    "    new_cps = [0]\n",
    "\n",
    "    # Use rhythm changes as CPs\n",
    "    cps = np.array(ann.sample)[np.array(ann.symbol) == \"+\"][1:]\n",
    "    cps = np.concatenate(([0], cps, [len(ts)]))\n",
    "\n",
    "    for i, symbols in enumerate(seg_symbols):\n",
    "        symbols_list = list(symbols)\n",
    "        unique, counts = np.unique(symbols_list, return_counts=True)\n",
    "        percents = counts / np.sum(counts)\n",
    "\n",
    "        # Determine most occurring label in segment \n",
    "        max_idx = np.argmax(counts)\n",
    "        dominant_symbol = unique[max_idx]\n",
    "        dominant_percent = percents[max_idx]\n",
    "        dominant_label = symbol_to_int[dominant_symbol]\n",
    "\n",
    "        # Add segment, CP, label - filter noise\n",
    "        if dominant_percent >= min_label_ratio and (len(labels) == 0 or labels[-1] != dominant_label):\n",
    "            segment = ts[cps[i]:cps[i + 1]]\n",
    "\n",
    "            if len(segment) < 10 * fs:\n",
    "                continue\n",
    "\n",
    "            segments.append(segment)\n",
    "            new_cps.append(new_cps[-1] + len(segment))\n",
    "            labels.append(symbol_to_int[dominant_symbol])\n",
    "\n",
    "    if len(labels) == 0: labels = [0]\n",
    "    return np.concatenate(segments), np.array(new_cps)[1:-1], np.array(labels)\n",
    "\n",
    "\n",
    "ts, cps, labels = create_labeled_segments(ts, ann)"
   ],
   "metadata": {
    "collapsed": false,
    "ExecuteTime": {
     "end_time": "2025-07-15T12:35:23.634940Z",
     "start_time": "2025-07-15T12:35:23.620663Z"
    }
   },
   "id": "bee4a6838a8d459d"
  },
  {
   "cell_type": "code",
   "execution_count": 12,
   "outputs": [],
   "source": [
    "# Filter noise from ECG\n",
    "def bandpass_filter(data, lowcut=0.5, highcut=40.0, fs=360.0, order=4):\n",
    "    nyquist = 0.5 * fs\n",
    "    low = lowcut / nyquist\n",
    "    high = highcut / nyquist\n",
    "\n",
    "    b, a = butter(order, [low, high], btype='band')\n",
    "    return filtfilt(b, a, data, axis=0)"
   ],
   "metadata": {
    "collapsed": false,
    "ExecuteTime": {
     "end_time": "2025-07-15T12:35:24.032143Z",
     "start_time": "2025-07-15T12:35:24.019664Z"
    }
   },
   "id": "a491d3e15aaf3c0a"
  },
  {
   "cell_type": "markdown",
   "id": "182d209f",
   "metadata": {},
   "source": [
    "Let's visualise the example TS."
   ]
  },
  {
   "cell_type": "code",
   "execution_count": 13,
   "id": "7e76b861",
   "metadata": {
    "ExecuteTime": {
     "end_time": "2025-07-15T12:35:24.974049Z",
     "start_time": "2025-07-15T12:35:24.748691Z"
    }
   },
   "outputs": [
    {
     "data": {
      "text/plain": "<Axes: title={'center': 'MIT-BIH_MLII_V1_Subject207'}>"
     },
     "execution_count": 13,
     "metadata": {},
     "output_type": "execute_result"
    },
    {
     "data": {
      "text/plain": "<Figure size 640x480 with 0 Axes>"
     },
     "metadata": {},
     "output_type": "display_data"
    },
    {
     "data": {
      "text/plain": "<Figure size 2000x200 with 1 Axes>",
      "image/png": "[encoded data removed]"
     },
     "metadata": {},
     "output_type": "display_data"
    }
   ],
   "source": [
    "plot_time_series(name, bandpass_filter(ts), cps, labels)"
   ]
  },
  {
   "cell_type": "markdown",
   "id": "1ec61dbc",
   "metadata": {},
   "source": [
    "Finally, let's save the entire TS dataset."
   ]
  },
  {
   "cell_type": "code",
   "execution_count": 22,
   "id": "aad644d6",
   "metadata": {
    "ExecuteTime": {
     "end_time": "2025-06-07T14:01:09.835738Z",
     "start_time": "2025-06-07T14:01:09.824043Z"
    }
   },
   "outputs": [],
   "source": [
    "DATASET_PATH = \"../../datasets/MIT-BIH/\""
   ]
  },
  {
   "cell_type": "code",
   "execution_count": 23,
   "id": "2011a85a",
   "metadata": {
    "ExecuteTime": {
     "end_time": "2025-06-07T14:01:09.898238Z",
     "start_time": "2025-06-07T14:01:09.836191Z"
    }
   },
   "outputs": [],
   "source": [
    "if not os.path.exists(DATASET_PATH):\n",
    "    os.mkdir(DATASET_PATH)"
   ]
  },
  {
   "cell_type": "code",
   "execution_count": 24,
   "id": "17dc2e62",
   "metadata": {
    "ExecuteTime": {
     "end_time": "2025-06-07T14:06:05.820798Z",
     "start_time": "2025-06-07T14:01:09.848192Z"
    }
   },
   "outputs": [
    {
     "name": "stderr",
     "output_type": "stream",
     "text": [
      "100%|██████████| 48/48 [04:55<00:00,  6.15s/it]\n"
     ]
    }
   ],
   "source": [
    "records = pd.read_csv(\"https://physionet.org/files/mitdb/1.0.0/RECORDS\", header=None)[0].to_numpy()\n",
    "\n",
    "desc, prop = [], []\n",
    "data = dict()\n",
    "window_size = 360\n",
    "\n",
    "for subject in tqdm(records):\n",
    "    rec = wfdb.rdrecord(f\"{subject}\", pn_dir='mitdb')\n",
    "    ann = wfdb.rdann(f\"{subject}\", \"atr\", pn_dir='mitdb')\n",
    "\n",
    "    name = f\"MIT-BIH_{rec.sig_name[0]}_Subject{subject}\"\n",
    "    ts, cps, labels = create_labeled_segments(rec.p_signal[:, 0], ann)\n",
    "\n",
    "    if len(cps) == 0: continue\n",
    "    ts = bandpass_filter(ts)\n",
    "\n",
    "    desc.append(f\"{name},{window_size},{','.join(dp.map(str, cps))}\")\n",
    "    prop.append(f\"{name},{','.join(dp.map(str, labels))}\")\n",
    "    data[name] = ts\n",
    "\n",
    "np.savetxt(f\"{DATASET_PATH}desc.txt\", desc, fmt=\"%s\")\n",
    "np.savetxt(f\"{DATASET_PATH}properties.txt\", prop, fmt=\"%s\")\n",
    "np.savez(f\"{DATASET_PATH}data.npz\", **data)"
   ]
  }
 ],
 "metadata": {
  "kernelspec": {
   "display_name": "Python 3 (ipykernel)",
   "language": "python",
   "name": "python3"
  },
  "language_info": {
   "codemirror_mode": {
    "name": "ipython",
    "version": 3
   },
   "file_extension": ".py",
   "mimetype": "text/x-python",
   "name": "python",
   "nbconvert_exporter": "python",
   "pygments_lexer": "ipython3",
   "version": "3.8.12"
  }
 },
 "nbformat": 4,
 "nbformat_minor": 5
}
